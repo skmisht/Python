{
 "cells": [
  {
   "cell_type": "markdown",
   "metadata": {},
   "source": [
    "# Q1: Dice Game: Sixes Bet\n",
    "Sixes Bet is an old dice game. The bet is simple: will the player roll a 6 at least once out of four\n",
    "rolls?\n",
    "\n",
    "Write a Python program to play the game. The program should allow the player to roll the die up to\n",
    "4 times, display the roll, and check if the player has rolled a six. If the player has rolled a 6, the\n",
    "game is over and the player has won. If the player rolls 4 times and hasn't rolled a 6, s/he loses.\n",
    "\n",
    "\n",
    "Prgram Specification table:\n",
    "\n",
    "| Input | Processing | Output |\n",
    "| --- | --- | --- |\n",
    "|  | set a count to 0 | die roll |\n",
    "|  | while statement with condition | message ie. \"you win\" or \"you lose\" |\n",
    "|  | Display message |  |"
   ]
  },
  {
   "cell_type": "code",
   "execution_count": 39,
   "metadata": {},
   "outputs": [
    {
     "name": "stdout",
     "output_type": "stream",
     "text": [
      "This program display the winning or loosing from dice game..\n",
      "You rolled the dice: 1 \n",
      "You rolled the dice: 1 \n",
      "You rolled the dice: 1 \n",
      "You rolled the dice: 6 \n",
      "---------------------------------------------\n",
      "You win\n"
     ]
    }
   ],
   "source": [
    "# Example of counting while loop with break\n",
    "# importing randint module from random\n",
    "from random import randint\n",
    "# Program response message\n",
    "print(\"This program display the winning or loosing from dice game..\")\n",
    "# set count to 0\n",
    "count = 0\n",
    "# dice rolling up to 4 times \n",
    "while count < 4:\n",
    "    roll = randint(1, 6)\n",
    "    print(f\"You rolled the dice: {roll} \")\n",
    "    # if statment for displaying message\n",
    "    if roll == 6:\n",
    "        print(\"You win\")\n",
    "        break # you win game over\n",
    "        \n",
    "    count += 0 # count increment by 1\n",
    "    \n",
    "else:\n",
    "    print(\"you lose\")"
   ]
  },
  {
   "cell_type": "code",
   "execution_count": 31,
   "metadata": {},
   "outputs": [
    {
     "name": "stdout",
     "output_type": "stream",
     "text": [
      "You rolled the dice: 1\n",
      "You rolled the dice: 4\n",
      "------------------------------\n",
      "You win!\n"
     ]
    }
   ],
   "source": [
    "# Example of counting for loop with break\n",
    "for i in range(4): \n",
    "    roll = randint(1, 6)\n",
    "    print(f\"You rolled the dice: {roll}\")\n",
    "    if roll == 4:\n",
    "        print(\"You win!\")\n",
    "        break\n",
    "    count += 0\n",
    "else:\n",
    "    print(\"You lose!\")"
   ]
  },
  {
   "cell_type": "markdown",
   "metadata": {},
   "source": [
    "# Q2: Long Jump\n",
    "In a long jump competition, a jumper takes 6 jumps, and his/her best jump is recorded. \n",
    "\n",
    "| Jump | Distance |\n",
    "| --- | --- |\n",
    "| 1 | 8.37 | \n",
    "| 2 | 8.43 | \n",
    "| 3 | 8.40 | \n",
    "| 4 | 8.11 | \n",
    "| 5 | 8.31 | \n",
    "| 6 | 8.44 | \n",
    "\n",
    "Write a program which inputs 6 long jump distances displays the average, maximum and minimum\n",
    "jump, without using a list or other data structure.\n",
    "\n",
    "Program specification table:\n",
    "\n",
    "| Input | Processing | Output |\n",
    "| --- | --- | --- |\n",
    "| distance | Input distance | average |\n",
    "|  | counting for loop | maximum |\n",
    "|  | Display maximum | minimum |\n",
    "|  | Display minimum |  |\n",
    "|  | calculate average |  |\n",
    "|  | Display average |  |"
   ]
  },
  {
   "cell_type": "code",
   "execution_count": 30,
   "metadata": {},
   "outputs": [
    {
     "name": "stdout",
     "output_type": "stream",
     "text": [
      "This program displays the average, maximum and minimum recorded long jump results from jump competition..\n",
      "--------------------------------------------------------------------------------\n"
     ]
    },
    {
     "name": "stdin",
     "output_type": "stream",
     "text": [
      "Enter the recorded distance:  8.37\n",
      "Enter the recorded distance:  8.43\n",
      "Enter the recorded distance:  8.40\n",
      "Enter the recorded distance:  8.11\n",
      "Enter the recorded distance:  8.31\n",
      "Enter the recorded distance:  8.44\n"
     ]
    },
    {
     "name": "stdout",
     "output_type": "stream",
     "text": [
      "--------------------------------------------------------------------------------\n",
      "Best jump: 8.44\n",
      "Worse jump: 8.11\n",
      "Average jump: 8.34\n"
     ]
    }
   ],
   "source": [
    "# Example of counting for loop\n",
    "# Program response message\n",
    "print(\"This program displays the maximum, minimum & average recorded long jump results..\")\n",
    "print(\"----\"*20)\n",
    "\n",
    "total = 0 \n",
    "# counting up to 6 as per given\n",
    "for i in range(6):\n",
    "    distance = float(input(\"Enter the recorded distance: \"))\n",
    "    total += distance # add to the total\n",
    "    if i == 0:\n",
    "        # set it to be the maximum and minimum\n",
    "        maximum = minimum = distance\n",
    "    # otherwise is this the new maximum\n",
    "    elif distance > maximum:\n",
    "        maximum = distance\n",
    "    # otherwise is this the new minimum\n",
    "    elif distance < minimum:\n",
    "        minimum = distance\n",
    "        \n",
    "# display results\n",
    "print(\"----\"*20)\n",
    "print(f\"Best jump: {maximum}\")\n",
    "print(f\"Worse jump: {minimum}\")\n",
    "print(f\"Average jump: {total/6:.2f}\")\n",
    "    "
   ]
  },
  {
   "cell_type": "markdown",
   "metadata": {},
   "source": [
    "# Q3: Leap Years\n",
    "- A year is a leap year if it is divisible by 4, unless it is a century year (divisible by 100) that is not divisible by 400. e.g. 1800 and 1900 were not leap years; 1600 and 2000 were. One way to approach this is: a year is a leap year \n",
    "    - if it is divisible by 400\n",
    "    - OR it is divisible by 4 and not divisible by 100\n",
    "\n",
    "- Write a program which inputs two years, and then determines and displays whether or not each year between them is a leap year.\n",
    "\n",
    "- To check if one number is evenly divisible by another, use the modulo operator, e.g\n",
    "    - if year % 4 == 0\n",
    "    \n",
    "- checks if the value of year is evenly divisible by 4.\n",
    "\n",
    "- Test your program with 2000 to 2020, and then test it again with 1890 to 1910.\n",
    "\n",
    "Program Specification table:\n",
    "\n",
    "| Input | Processing | Output |\n",
    "| --- | --- | --- |\n",
    "| start | for loop for each year start to end+1 | Leap year or not leap year |\n",
    "| end | if statement (condition) |  |"
   ]
  },
  {
   "cell_type": "code",
   "execution_count": 1,
   "metadata": {},
   "outputs": [
    {
     "name": "stdout",
     "output_type": "stream",
     "text": [
      "This program determines leap year in specified range..\n",
      "------------------------------------------------------------\n"
     ]
    },
    {
     "name": "stdin",
     "output_type": "stream",
     "text": [
      "Enter the first year:  2016\n",
      "Enter the last year:  2020\n"
     ]
    },
    {
     "name": "stdout",
     "output_type": "stream",
     "text": [
      "2016: leap year\n",
      "2017: Not a leap year\n",
      "2018: Not a leap year\n",
      "2019: Not a leap year\n",
      "2020: leap year\n"
     ]
    }
   ],
   "source": [
    "# example of counting for loop\n",
    "# program response message \n",
    "print(\"This program determines leap year in specified range..\")\n",
    "print(\"----\"*15)\n",
    "# input start and end years\n",
    "start_year = int(input(\"Enter the first year: \"))\n",
    "end_year = int(input(\"Enter the last year: \"))\n",
    "# years until we get to the end\n",
    "for year in range(start_year, end_year+1): # want to include end year so used end+1\n",
    "    print(year, end=\": \")\n",
    "    if year % 400 == 0 or (year % 4 == 0 and year % 100 != 0):\n",
    "        print(\"leap year\")\n",
    "    else:\n",
    "        print(\"Not a leap year\")"
   ]
  },
  {
   "cell_type": "code",
   "execution_count": null,
   "metadata": {},
   "outputs": [],
   "source": []
  },
  {
   "cell_type": "markdown",
   "metadata": {},
   "source": [
    "# Q4: Chess Rewards\n",
    "- Legend has it that the game of chess was invented by Sissa ben Dahir of the court of King Shiram of India. The king was so impressed with this invention that he promised to give Sissa any reward he wished for.\n",
    "\n",
    "- Being a clever chap, Sissa gave the king a choice: the king could either give him 10,000 rupees, or a payment of wheat based on the 64 square chessboard. To pay Sissa in wheat, the king would need to give him one grain of wheat for the first square, 2 grains of wheat for the second square, 4 for the third, 8 for the forth, and so on. Each square should have double the amount of wheat as the previous square. \n",
    "\n",
    "- Now, the kingdom was known for its wheat production, so King Shiram was more than willing to part with some wheat. He thought Sissa a fool to ask for such an insignificant award.\n",
    "\n",
    "- Write a program which calculates and displays\n",
    "    - the number of grains of wheat on each square,\n",
    "    - and the total number of grains of wheat.\n",
    "    \n",
    "    \n",
    "Program specification table:\n",
    "\n",
    "| Input | Processing | Output |\n",
    "| --- | --- | --- |\n",
    "|  | Set total to 0 | grain |\n",
    "|  | for each number i from 0 to 63 (i.e. range(63) | Total |\n",
    "|  | set grain to 2 to the power of i |  |\n",
    "|  | Display grains |  |\n",
    "|  | Add grains to total |  |"
   ]
  },
  {
   "cell_type": "code",
   "execution_count": 4,
   "metadata": {},
   "outputs": [
    {
     "name": "stdout",
     "output_type": "stream",
     "text": [
      "This program calculates the Sissa Ben Dahir's rewards..\n",
      "------------------------------------------------------------------------------------------------------------------------\n",
      "1 2 4 8 16 32 64 128 256 512 1024 2048 4096 8192 16384 32768 65536 131072 262144 524288 1048576 2097152 4194304 8388608 16777216 33554432 67108864 134217728 268435456 536870912 1073741824 2147483648 4294967296 8589934592 17179869184 34359738368 68719476736 137438953472 274877906944 549755813888 1099511627776 2199023255552 4398046511104 8796093022208 17592186044416 35184372088832 70368744177664 140737488355328 281474976710656 562949953421312 1125899906842624 2251799813685248 4503599627370496 9007199254740992 18014398509481984 36028797018963968 72057594037927936 144115188075855872 288230376151711744 576460752303423488 1152921504606846976 2305843009213693952 4611686018427387904 9223372036854775808 Total: 18446744073709551615 grains of rice.\n"
     ]
    }
   ],
   "source": [
    "# Program response message\n",
    "print(\"This program calculates the Sissa Ben Dahir's rewards..\")\n",
    "print(\"---\"*40)\n",
    "# set total to 0\n",
    "total = 0\n",
    "# for loop to process the 64 squares of chess board\n",
    "for i in range(64):\n",
    "    grains = 2**i # number of grains of a chess board\n",
    "    print(grains, end=\" \")\n",
    "    total += grains\n",
    "    \n",
    "# print(\"---\"*20)\n",
    "print(f\"Total: {total} grains of rice.\")"
   ]
  },
  {
   "cell_type": "markdown",
   "metadata": {},
   "source": [
    "# Q5: Gusess the Number \n",
    "- Guess the Number is a simple guessing game. The computer “thinks” of a number, and the player has ten attempts to guess it. If the player guesses the number, s/he wins. Otherwise, the computer tells the player if the guess was too high or too low.\n",
    "\n",
    "- Design and write a program to play Guess the Number. The program randomly selects a number between 1 and 100, and then repeatedly (up to 10 times)\n",
    "    - prompts the player to input his/her guess\n",
    "    - checks if it is the right number, it should stop repeating\n",
    "    - otherwise displays a message indicating whether the guess was too high or too low\n",
    "    \n",
    "- The program should then display a message indicating whether the player has won or lost.\n",
    "\n",
    "Program specification table\n",
    "\n",
    "| Input | Processing | Output | \n",
    "| --- | --- | --- |\n",
    "|  | Generate the random number 1 to 100 (randint(1,100) | response to guess |\n",
    "|  | for each number i from 0 to 9 (range(10) | win/lose message | \n",
    "|  | Input guess |  |\n",
    "|  | condition (nested if) |  |"
   ]
  },
  {
   "cell_type": "code",
   "execution_count": 7,
   "metadata": {},
   "outputs": [
    {
     "name": "stdout",
     "output_type": "stream",
     "text": [
      "This program display the win/lose after Guess the Number game..\n",
      "------------------------------------------------------------\n",
      "I am thinking of a number between 1 and 100. Try to guess it.\n"
     ]
    },
    {
     "name": "stdin",
     "output_type": "stream",
     "text": [
      "Enter your guess:  26\n"
     ]
    },
    {
     "name": "stdout",
     "output_type": "stream",
     "text": [
      "Guess is too low, please try again!\n"
     ]
    },
    {
     "name": "stdin",
     "output_type": "stream",
     "text": [
      "Enter your guess:  36\n"
     ]
    },
    {
     "name": "stdout",
     "output_type": "stream",
     "text": [
      "Guess is too low, please try again!\n"
     ]
    },
    {
     "name": "stdin",
     "output_type": "stream",
     "text": [
      "Enter your guess:  45\n"
     ]
    },
    {
     "name": "stdout",
     "output_type": "stream",
     "text": [
      "Guess is too low, please try again!\n"
     ]
    },
    {
     "name": "stdin",
     "output_type": "stream",
     "text": [
      "Enter your guess:  25\n"
     ]
    },
    {
     "name": "stdout",
     "output_type": "stream",
     "text": [
      "Guess is too low, please try again!\n"
     ]
    },
    {
     "name": "stdin",
     "output_type": "stream",
     "text": [
      "Enter your guess:  36\n"
     ]
    },
    {
     "name": "stdout",
     "output_type": "stream",
     "text": [
      "Guess is too low, please try again!\n"
     ]
    },
    {
     "name": "stdin",
     "output_type": "stream",
     "text": [
      "Enter your guess:  46\n"
     ]
    },
    {
     "name": "stdout",
     "output_type": "stream",
     "text": [
      "Guess is too low, please try again!\n"
     ]
    },
    {
     "name": "stdin",
     "output_type": "stream",
     "text": [
      "Enter your guess:  56\n"
     ]
    },
    {
     "name": "stdout",
     "output_type": "stream",
     "text": [
      "Guess is too low, please try again!\n"
     ]
    },
    {
     "name": "stdin",
     "output_type": "stream",
     "text": [
      "Enter your guess:  65\n"
     ]
    },
    {
     "name": "stdout",
     "output_type": "stream",
     "text": [
      "Guess is too low, please try again!\n"
     ]
    },
    {
     "name": "stdin",
     "output_type": "stream",
     "text": [
      "Enter your guess:  75\n"
     ]
    },
    {
     "name": "stdout",
     "output_type": "stream",
     "text": [
      "Guess is too low, please try again!\n"
     ]
    },
    {
     "name": "stdin",
     "output_type": "stream",
     "text": [
      "Enter your guess:  80\n"
     ]
    },
    {
     "name": "stdout",
     "output_type": "stream",
     "text": [
      "you have guessed it!\n"
     ]
    }
   ],
   "source": [
    "# Program response message\n",
    "print(\"This program display the win/lose after Guess the Number game..\")\n",
    "print(\"---\"*20)\n",
    "# importing randint()\n",
    "from random import randint\n",
    "# generate random number from 1 to 100\n",
    "number = randint(1, 100)\n",
    "print(\"I am thinking of a number between 1 and 100. Try to guess it.\")\n",
    "# Attempting the 10 guess\n",
    "for i in range(10):\n",
    "    guess = int(input(\"Enter your guess: \"))\n",
    "    if guess == number:\n",
    "        print(\"you have guessed it!\")\n",
    "        break\n",
    "    elif guess < number:\n",
    "        print(\"Guess is too low, please try again!\")\n",
    "    else:\n",
    "        print(\"You have guessed too high, please try again!\")\n",
    "else:\n",
    "    print(\"You are out of guesses, you lose! Good Bye..\")"
   ]
  },
  {
   "cell_type": "markdown",
   "metadata": {},
   "source": [
    "# Q6: Input validation – Registration\n",
    "- Write a program which simulates registering a user account.\n",
    "\n",
    "- The user should be prompted to enter a valid username. A username is valid if it is at most 8 characters and contains no uppercase letters. Use a while loop to ensure that a valid username is entered.\n",
    "\n",
    "- The user should then be prompted to enter his/her password, and again to confirm it. Use a while loop to ensure that a) the two passwords match, and b) the password is at least 8 characters long.\n",
    "\n",
    "- Once a valid username and password has been entered, the message “Registration Complete” should be displayed.\n",
    "\n",
    "Program Specification table:\n",
    "\n",
    "| Input | Processing | Output | \n",
    "| --- | --- | --- |\n",
    "| username | input username | username invalid | \n",
    "| password1 | while username is not vlid (<8 characters, or not lowercase) | password not match |\n",
    "| password2 | display \"username is invalid\" | registration successful |\n",
    "|  | inout username |  |\n",
    "|  | input password 1 & 2 |  |\n",
    "|  | while password1 is too short or not equal to password2 |  |\n",
    "|  | display passwword do not match |  |\n",
    "|  | input password1 |  |\n",
    "|  | input password2 |  |\n",
    "|  | display \"Registration successful\" |  |"
   ]
  },
  {
   "cell_type": "code",
   "execution_count": 10,
   "metadata": {},
   "outputs": [
    {
     "name": "stdout",
     "output_type": "stream",
     "text": [
      "Simulating user registeration..\n",
      "---------------------------------------------\n"
     ]
    },
    {
     "name": "stdin",
     "output_type": "stream",
     "text": [
      "Enter the username:  jbloggs\n",
      "Enter your password:  Jbloggs\n",
      "Confirm your password:  Jbloggs\n"
     ]
    },
    {
     "name": "stdout",
     "output_type": "stream",
     "text": [
      "Invalid password attempt. Please try again.\n"
     ]
    },
    {
     "name": "stdin",
     "output_type": "stream",
     "text": [
      "Enter your password:  Jbloggs\n",
      "Confirm your password:  Jbloggs\n"
     ]
    },
    {
     "name": "stdout",
     "output_type": "stream",
     "text": [
      "Invalid password attempt. Please try again.\n"
     ]
    },
    {
     "name": "stdin",
     "output_type": "stream",
     "text": [
      "Enter your password:  Jbloggs\n",
      "Confirm your password:  Jbloggs\n"
     ]
    },
    {
     "name": "stdout",
     "output_type": "stream",
     "text": [
      "Invalid password attempt. Please try again.\n"
     ]
    },
    {
     "name": "stdin",
     "output_type": "stream",
     "text": [
      "Enter your password:  Jbloggs\n",
      "Confirm your password:  Jbloggs\n"
     ]
    },
    {
     "name": "stdout",
     "output_type": "stream",
     "text": [
      "Invalid password attempt. Please try again.\n"
     ]
    },
    {
     "name": "stdin",
     "output_type": "stream",
     "text": [
      "Enter your password:  jbloggs\n",
      "Confirm your password:  jbloggs\n"
     ]
    },
    {
     "name": "stdout",
     "output_type": "stream",
     "text": [
      "Invalid password attempt. Please try again.\n"
     ]
    },
    {
     "name": "stdin",
     "output_type": "stream",
     "text": [
      "Enter your password:  Jblogg123\n",
      "Confirm your password:  Jblogg123\n"
     ]
    },
    {
     "name": "stdout",
     "output_type": "stream",
     "text": [
      "---------------------------------------------\n",
      "Registration has been successful!\n"
     ]
    }
   ],
   "source": [
    "# Program response message\n",
    "print(\"Simulating user registeration..\")\n",
    "print(\"---\"*15)\n",
    "# input username\n",
    "user_name = input(\"Enter the username: \")\n",
    "# valid username\n",
    "while len(user_name) > 8 or not user_name.islower():\n",
    "    print(\"Invalid username, must be at most 8 characters and lowercase. please try again.\")\n",
    "    # input username again\n",
    "    user_name = input(\"Enter the username: \")\n",
    "# input password 1 & 2\n",
    "password1 = input(\"Enter your password: \")\n",
    "password2 = input(\"Confirm your password: \")\n",
    "# keep repeting until the password match and are at least 8 characters long\n",
    "while len(password1) < 8 or password1 != password2:\n",
    "    print(\"Invalid password attempt. Please try again.\")\n",
    "    # inout the password 1 & 2 again\n",
    "    password1 = input(\"Enter your password: \")\n",
    "    password2 = input(\"Confirm your password: \")\n",
    "\n",
    "print(\"---\"*15)\n",
    "print(\"Registration has been successful!\")"
   ]
  },
  {
   "cell_type": "markdown",
   "metadata": {},
   "source": [
    "# Q7: Input Validation Loop – IP addresses\n",
    "- An IP address (version 4) takes the form w.x.y.z where w x y and z are numbers in the range 0 – 255, e.g. 192.168.34.10. It would be a mistake to any of the numbers was negative, or greater than 255.\n",
    "\n",
    "- Write a program which prompts the user to input a valid IP address. The program should use a counting loop to input the 4 numbers of the IP address, and use an input validation loop to ensure that the number is valid before proceeding. Once a valid number has been input, it should be added to the IP address.\n",
    "\n",
    "Hints:\n",
    "- You'll need to input each number as an integer, and check if its between 0 and 255, inclusive.\n",
    "- If this is the first valid number (count is zero), then initialise the ip address string using\n",
    "    - ip_address = str(number)\n",
    "    where the str function converts the number to a string; then increase the count by 1.\n",
    "- For each subsequent valid number, add it to the ip address using:\n",
    "    - ip_address = ip_address + “.” + str(number)\n",
    "    or alternatively\n",
    "    - ip_address += “.” + str(number)\n",
    "    \n",
    "Program Specification table: \n",
    "\n",
    "| Input | Processing | Output |\n",
    "| --- | --- | --- |\n",
    "| number | for each number i from 0 to 4 (range(4) | number invalid | \n",
    "|  | Input number | IP adress |\n",
    "|  | While username is not between 0 and 255 |  |\n",
    "|  | display \"Invalid Number\" |  |\n",
    "|  | Input Number |  |\n",
    "|  | if i = 0 (first number) then set IP address number (see Hints) |  |\n",
    "|  | display IP address |  |"
   ]
  },
  {
   "cell_type": "code",
   "execution_count": 11,
   "metadata": {},
   "outputs": [
    {
     "name": "stdout",
     "output_type": "stream",
     "text": [
      "This program is to validate the number in an IP address(version 4)..\n"
     ]
    },
    {
     "name": "stdin",
     "output_type": "stream",
     "text": [
      "Enter the number:  192\n",
      "Enter the number:  168\n",
      "Enter the number:  24\n",
      "Enter the number:  20\n"
     ]
    },
    {
     "name": "stdout",
     "output_type": "stream",
     "text": [
      "------------------------------\n",
      "IP Address is: 192.168.24.20\n"
     ]
    }
   ],
   "source": [
    "# Program response message\n",
    "print(\"This program is to validate the number in an IP address(version 4)..\")\n",
    "# input 4 valid numbers\n",
    "for i in range(4):\n",
    "    number = int(input(\"Enter the number: \"))\n",
    "    while not 0 <= number <= 255:\n",
    "        number = int(input(\"Invalid number, please try again.\"))\n",
    "        \n",
    "    # Number is valid, is it the first one\n",
    "    if i == 0:\n",
    "        ip_address = str(number) # converting number into string\n",
    "    else: # add it onto the existing number\n",
    "        # ip_address = ip_address + \".\" + str(number)\n",
    "        ip_address += \".\" + str(number)\n",
    "        \n",
    "print(\"--\"*15)\n",
    "print(f\"IP Address is: {ip_address}\")"
   ]
  },
  {
   "cell_type": "code",
   "execution_count": 12,
   "metadata": {},
   "outputs": [
    {
     "name": "stdout",
     "output_type": "stream",
     "text": [
      "This program is to validate the number in an IP address(version 4)..\n"
     ]
    },
    {
     "name": "stdin",
     "output_type": "stream",
     "text": [
      "Enter the number:  1000\n",
      "Invalid number, please try again. 999\n",
      "Invalid number, please try again. 23\n",
      "Enter the number:  165\n",
      "Enter the number:  235\n",
      "Enter the number:  32\n"
     ]
    },
    {
     "name": "stdout",
     "output_type": "stream",
     "text": [
      "------------------------------\n",
      "IP Address is: 23.165.235.32\n"
     ]
    }
   ],
   "source": [
    "# Program response message\n",
    "print(\"This program is to validate the number in an IP address(version 4)..\")\n",
    "# input 4 valid numbers\n",
    "for i in range(4):\n",
    "    number = int(input(\"Enter the number: \"))\n",
    "    while not 0 <= number <= 255:\n",
    "        number = int(input(\"Invalid number, please try again.\"))\n",
    "        \n",
    "    # Number is valid, is it the first one\n",
    "    if i == 0:\n",
    "        ip_address = str(number) # converting number into string\n",
    "    else: # add it onto the existing number\n",
    "        # ip_address = ip_address + \".\" + str(number)\n",
    "        ip_address += \".\" + str(number)\n",
    "        \n",
    "print(\"--\"*15)\n",
    "print(f\"IP Address is: {ip_address}\")"
   ]
  },
  {
   "cell_type": "markdown",
   "metadata": {},
   "source": [
    "# Q8: Weight Conversions\n",
    "- The conversion from Imperial to Metric weights, and vice versa, are\n",
    "    - 1 pound = 0.453 592 37 kilogram\n",
    "    - 1 kilogram = 2.204 622 621 8 pound\n",
    "\n",
    "- Write a program which repeatedly displays a menu offering to convert from pounds to kilograms, and kilograms to pounds and then processes the users choice until s/he is finished. The program should display a suitable message if the user inputs an invalid choice.\n",
    "\n",
    "Program Specification table: \n",
    "\n",
    "| Input | Processing | Output |\n",
    "| --- | --- | --- |\n",
    "| choice | Repeat for ever (Use While True) | menu |\n",
    "| pounds | Display Menu | kilograms |\n",
    "| kilograms | Input Choice | pounds |\n",
    "|  | condition (nested if) | invalid choice |\n",
    "|  | display IP address |  |"
   ]
  },
  {
   "cell_type": "code",
   "execution_count": 1,
   "metadata": {},
   "outputs": [
    {
     "name": "stdout",
     "output_type": "stream",
     "text": [
      "This program display the mennu offering to convert from pound to kilogram & viceversa..\n",
      "---------------------------------------------------------------------------\n",
      "Imperial and Metric weight conversions\n",
      "1. Imperial to Metric\n",
      "2. Metric to Imperial\n",
      "0. Quit\n"
     ]
    },
    {
     "name": "stdin",
     "output_type": "stream",
     "text": [
      "Enter your choice:  1\n",
      "Enter the weight in pounds:  23\n"
     ]
    },
    {
     "name": "stdout",
     "output_type": "stream",
     "text": [
      "Equivalent wright in kg is: 10.4kg\n",
      "Imperial and Metric weight conversions\n",
      "1. Imperial to Metric\n",
      "2. Metric to Imperial\n",
      "0. Quit\n"
     ]
    },
    {
     "name": "stdin",
     "output_type": "stream",
     "text": [
      "Enter your choice:  2\n",
      "Enter weight in kilograms:  3256\n"
     ]
    },
    {
     "name": "stdout",
     "output_type": "stream",
     "text": [
      "Equivalent weight in pounds is: 7178.3lbs\n",
      "Imperial and Metric weight conversions\n",
      "1. Imperial to Metric\n",
      "2. Metric to Imperial\n",
      "0. Quit\n"
     ]
    },
    {
     "name": "stdin",
     "output_type": "stream",
     "text": [
      "Enter your choice:  0\n"
     ]
    }
   ],
   "source": [
    "# Program response message\n",
    "print(\"This program display the mennu offering to convert from pound to kilogram & viceversa..\")\n",
    "print(\"---\"*25)\n",
    "# repeting for ever and displayting the choice menu\n",
    "while True:\n",
    "    print(\"Imperial and Metric weight conversions\")\n",
    "    print(\"1. Imperial to Metric\")\n",
    "    print(\"2. Metric to Imperial\")\n",
    "    print(\"0. Quit\")\n",
    "    choice = int(input(\"Enter your choice: \"))\n",
    "    \n",
    "    if choice == 0:\n",
    "        break\n",
    "    elif choice == 1:\n",
    "        pounds = float(input(\"Enter the weight in pounds: \"))\n",
    "        # converting pound into kg\n",
    "        weight_in_kg = pounds*0.45359237\n",
    "        print(f\"Equivalent wright in kg is: {weight_in_kg:.1f}kg\")\n",
    "    elif choice == 2:\n",
    "        kilogram = float(input(\"Enter weight in kilograms: \"))\n",
    "        # converting kilograms into pounds\n",
    "        weight_in_pounds = kilogram*2.2046226218\n",
    "        print(f\"Equivalent weight in pounds is: {weight_in_pounds:.1f}lbs\")\n",
    "    else:\n",
    "        print(\"Invalid choice.\")"
   ]
  },
  {
   "cell_type": "markdown",
   "metadata": {},
   "source": [
    "# Q9: Validate Internet Domain\n",
    "- A domain name is an identification string that defines a realm of administrative autonomy, authority or control within the Internet. https://en.wikipedia.org/wiki/Domain_name\n",
    "\n",
    "- Traditionally, a domain name can contain at most 253 characters, and can only consist of letters, numbers, dots . and dashes (hypens) -\n",
    "\n",
    "Write a program which inputs and validates a domain name."
   ]
  },
  {
   "cell_type": "code",
   "execution_count": 10,
   "metadata": {},
   "outputs": [
    {
     "name": "stdout",
     "output_type": "stream",
     "text": [
      "This program is to validate an internet Domain name..\n",
      "---------------------------------------------\n"
     ]
    },
    {
     "name": "stdin",
     "output_type": "stream",
     "text": [
      "Enter the domain name:  research_abc.abc.ie\n"
     ]
    },
    {
     "name": "stdout",
     "output_type": "stream",
     "text": [
      "Invalid character: _\n"
     ]
    }
   ],
   "source": [
    "# Program response message\n",
    "print(\"This program is to validate an internet Domain name..\")\n",
    "print(\"---\"*15)\n",
    "# input the domain\n",
    "domain = input(\"Enter the domain name: \")\n",
    "# check the domain\n",
    "if len(domain) > 253:\n",
    "    print(\"Domain name exceeds the limit of characters (>253)!\")\n",
    "else: \n",
    "    # check domain name for invalid characters\n",
    "    for character in domain:\n",
    "        if not character.isalnum() and character != \".\" and character != \"-\":\n",
    "            print(f\"Invalid character: {character}\")\n",
    "            break\n",
    "    else: \n",
    "        print(\"Valid domain name.\")"
   ]
  },
  {
   "cell_type": "markdown",
   "metadata": {},
   "source": [
    "# Q10: Caesar Cipher\n",
    "- Julius Caesar is credited with a basic substitution cipher in which he shifted each letter of the alphabet along by 3 places. The original message is referred to as the plaintext, represented in lowercase characters, and the enciphered message is referred to as the ciphertext, represented in uppercase characters.\n",
    "\n",
    "| a | b | c | d | e | f | g | h | i | j | k | l | m | n | o | p | q | r | s | t | u | v | w | x | y | z |\n",
    "| --- | --- | --- |--- | --- | --- | --- | --- | --- |--- | --- | --- | --- | --- | --- |--- | --- | --- | --- | --- | --- | --- | --- | --- | --- | --- | \n",
    "| D | E | F | G | H | I | J | K | L | M | N | O | P | Q | R | S | T | U | V | W | X | Y | Z | A | B | C |\n",
    "\n",
    "\n",
    "- So a is enciphered as D, b is enciphered as E, … The letters at the end of the alphabet (x, y and z) wrap-around to be substituted by the first three.\n",
    "| 0 | 1 | 2 | 3 | 4 | 5 | 6 | 7 | 8 | 9 | 10 | 11 | 12 | 13 | 14 | 15 | 16 | 17 | 18 | 19 | 20 | 21 | 22 | 23 | 24 | 25 |\n",
    "| --- | --- | --- |--- | --- | --- | --- | --- | --- |--- | --- | --- | --- | --- | --- |--- | --- | --- | --- | --- | --- | --- | --- | --- | --- | --- | \n",
    "| a | b | c | d | e | f | g | h | i | j | k | l | m | n | o | p | q | r | s | t | u | v | w | x | y | z |\n",
    "| D | E | F | G | H | I | J | K | L | M | N | O | P | Q | R | S | T | U | V | W | X | Y | Z | A | B | C |\n",
    "\n",
    "- Write a program which inputs a plaintext message, enciphers it using the Caesar Cipher, and then displays the ciphertext.\n",
    "\n",
    "- The logic is as follows:\n",
    "    - Convert the plaintext to lowercase\n",
    "- Take each character in the plaintext one at a time\n",
    "     - If the character is a letter, convert it into a number representing its position in the alphabet Add 3 to this number\n",
    "    - Find the letter corresponding to this number and add it to the ciphertext Otherwise add the character on to the ciphertext\n",
    "    - Display the ciphertext\n",
    "    \n",
    "Program Specification table:\n",
    "\n",
    "| Input | Processing | Output |\n",
    "| --- | --- | --- |\n",
    "| plaintext | Input the plain text | ciphertext |\n",
    "|  | Convert the plaintext to lowercase |  |\n",
    "|  | Counting for loop & condition |  |\n",
    "|  | Display the ciphertext |  |\n",
    "|  |  |  |"
   ]
  },
  {
   "cell_type": "code",
   "execution_count": 11,
   "metadata": {},
   "outputs": [
    {
     "name": "stdout",
     "output_type": "stream",
     "text": [
      "Program to encipher a message using the Caeser Cipher..\n",
      "------------------------------------------------------------\n"
     ]
    },
    {
     "name": "stdin",
     "output_type": "stream",
     "text": [
      "Enter the message:  The Celts are attacking!\n"
     ]
    },
    {
     "name": "stdout",
     "output_type": "stream",
     "text": [
      "The enciphered message is:  WKH FHOWV DUH DWWDFNLQJ!\n"
     ]
    }
   ],
   "source": [
    "# importing string lowercase and uppercase method\n",
    "from string import ascii_lowercase, ascii_uppercase\n",
    "# Program response message\n",
    "print(\"Program to encipher a message using the Caeser Cipher..\")\n",
    "print(\"---\"*20)\n",
    "# input the message\n",
    "plaintext = input(\"Enter the message: \")\n",
    "# create an empty string representing the ciphertext\n",
    "ciphertext = \"\"\n",
    "# for each character in the messsage\n",
    "for character in plaintext.lower():\n",
    "    # if its a letter\n",
    "    if character.islower():\n",
    "        # convert it to a number\n",
    "        number = ascii_lowercase.index(character)\n",
    "        # add 3 to the number\n",
    "        new_number = (number+3) % 26\n",
    "        # find the Uppercase letter for the new number\n",
    "        new_letter = ascii_uppercase[new_number]\n",
    "        # add the letter to the ciphertetxt\n",
    "        ciphertext += new_letter\n",
    "    # otherwise just add it on\n",
    "    else:\n",
    "        ciphertext += character\n",
    "# display the ciphertext\n",
    "print(\"The enciphered message is: \", ciphertext)"
   ]
  },
  {
   "cell_type": "code",
   "execution_count": null,
   "metadata": {},
   "outputs": [],
   "source": []
  },
  {
   "cell_type": "code",
   "execution_count": null,
   "metadata": {},
   "outputs": [],
   "source": []
  },
  {
   "cell_type": "code",
   "execution_count": null,
   "metadata": {},
   "outputs": [],
   "source": []
  }
 ],
 "metadata": {
  "kernelspec": {
   "display_name": "Python 3",
   "language": "python",
   "name": "python3"
  },
  "language_info": {
   "codemirror_mode": {
    "name": "ipython",
    "version": 3
   },
   "file_extension": ".py",
   "mimetype": "text/x-python",
   "name": "python",
   "nbconvert_exporter": "python",
   "pygments_lexer": "ipython3",
   "version": "3.7.6"
  }
 },
 "nbformat": 4,
 "nbformat_minor": 4
}
