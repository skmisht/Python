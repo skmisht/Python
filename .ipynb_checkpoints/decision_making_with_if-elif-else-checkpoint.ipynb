{
 "cells": [
  {
   "cell_type": "markdown",
   "metadata": {},
   "source": [
    "# Decision-making with if-elif-else"
   ]
  },
  {
   "cell_type": "markdown",
   "metadata": {},
   "source": [
    "# Q1: Income limits for maintance grant\n",
    "- The family income limits for eligibility for a full maintenance grant in 2019-2020 are as follow \n",
    "\n",
    "| Numbner of dependents | Full Maintance |\n",
    "| --- | --- |\n",
    "| less than 4  | €39,875 |\n",
    "| 4 to 7 | €43,810 |\n",
    "| 8 or more | €47,575 |\n",
    "\n",
    "- Write a program which inputs the number of dependents and then determines and displays the corresponding income limit.\n",
    "\n",
    "Program's Specification table:\n",
    "\n",
    "| Input | Processing | Output |\n",
    "| --- | --- | --- |\n",
    "| Number of dependents | Input number of dependents| Income Limit |\n",
    "|  | Determining the income based on the no. of dependents| Income Limit |\n",
    "|  | Display the income limit|  |"
   ]
  },
  {
   "cell_type": "code",
   "execution_count": 1,
   "metadata": {},
   "outputs": [
    {
     "name": "stdout",
     "output_type": "stream",
     "text": [
      "This program display the income limits for a full maintenance grant..\n"
     ]
    },
    {
     "name": "stdin",
     "output_type": "stream",
     "text": [
      "Enter number of dependents:  2\n"
     ]
    },
    {
     "name": "stdout",
     "output_type": "stream",
     "text": [
      "The income limit is: 39875\n"
     ]
    }
   ],
   "source": [
    "# Program response message\n",
    "print(\"This program display the income limits for a full maintenance grant..\")\n",
    "# input the number of dependents\n",
    "num_dependents = int(input(\"Enter number of dependents: \"))\n",
    "# set income limit based on number of dependents\n",
    "if num_dependents <4:\n",
    "    limit = 39875\n",
    "elif num_dependents <= 7:\n",
    "    limit = 43810\n",
    "else:\n",
    "    limit = 47575\n",
    "    \n",
    "# display the income limit\n",
    "print(f\"The income limit is: {limit}\")"
   ]
  },
  {
   "cell_type": "code",
   "execution_count": null,
   "metadata": {},
   "outputs": [],
   "source": []
  },
  {
   "cell_type": "markdown",
   "metadata": {},
   "source": [
    "# Q2: Degree awards\n",
    "- In ABC institute, degrees are graded according to the average course mark as follows\n",
    "| Mark | Grade |\n",
    "| --- | --- |\n",
    "| 70-100 | 1st Class Honours |\n",
    "| 60 - <70 | 2nd Class Honours, Grade 1 | \n",
    "| 50 - <60 | 2nd Class Honours, Grade 2 | \n",
    "| 40 - <50 | Pass | \n",
    "| 0- <40 | No award | \n",
    "\n",
    "- Write a program which inputs a mark and determines and displays the corresponding grade. If an invalid mark is entered, a suitable error message should be displayed.\n",
    "\n",
    "Program Specification table\n",
    "\n",
    "| Input | Processing | Output |\n",
    "| --- | --- | --- |\n",
    "| Mark | Input mark | Grade |\n",
    "|  | Determining grade based on mark |  |\n",
    "|  | Display grade |  |"
   ]
  },
  {
   "cell_type": "code",
   "execution_count": 6,
   "metadata": {},
   "outputs": [
    {
     "name": "stdout",
     "output_type": "stream",
     "text": [
      "This program display the grade awarded based on average mark..\n"
     ]
    },
    {
     "name": "stdin",
     "output_type": "stream",
     "text": [
      "Enter the average mark:  68\n"
     ]
    },
    {
     "name": "stdout",
     "output_type": "stream",
     "text": [
      "2nd Class Honours, Grade 1\n"
     ]
    }
   ],
   "source": [
    "# Program response message\n",
    "print(\"This program display the grade awarded based on average mark..\")\n",
    "# Inpput mark\n",
    "marks = int(input(\"Enter the average mark: \"))\n",
    "# determinig the grade based on marks\n",
    "if marks >= 0 and marks <= 40:\n",
    "    print(\"No award\")\n",
    "elif marks > 40 and marks <=50:\n",
    "    print(\"Pass\")\n",
    "elif marks >50 and marks <=60:\n",
    "    print(\"2nd Class Honours, Grade 2\")\n",
    "elif marks >60 and marks <=70:\n",
    "    print(\"2nd Class Honours, Grade 1\")\n",
    "elif marks > 70 and marks <=100:\n",
    "    print(\"1st Class Honours\")\n",
    "    if marks > 100:\n",
    "        print(\"Invalid marks\")\n",
    "else: \n",
    "    print(\"Invalid marks\")"
   ]
  },
  {
   "cell_type": "code",
   "execution_count": null,
   "metadata": {},
   "outputs": [],
   "source": []
  },
  {
   "cell_type": "markdown",
   "metadata": {},
   "source": [
    "# Q3: Match Results\n",
    "- Write a program which inputs the final score of a match as below and determines and displays the match result (the name of the winning team, or “draw”).\n",
    "    - home team name and score\n",
    "    - away team name and score\n",
    "\n",
    "Sample Values:\n",
    "\n",
    "| Home Team | Home Score | Away Team | Away Score | Result |\n",
    "| --- | --- | --- |--- | --- |\n",
    "| Latvia | 1 | Sweden | 4 | Winner: Sweden |\n",
    "| Wales | 2 | Ireland | 2 | Draw |\n",
    "| Ireland | 2 | Montenegro | 0 | Winner: Ireland |\n",
    "\n",
    "Prgram Specification table\n",
    "\n",
    "| Input | Processing | Output |\n",
    "| --- | --- | --- |\n",
    "| Home team name | Input home team name and score | match outcome |\n",
    "| Home team score | Input away team name and score |  |\n",
    "| Away team name | Nested ifs.. |  |\n",
    "| Away team score |  |  |"
   ]
  },
  {
   "cell_type": "code",
   "execution_count": 1,
   "metadata": {},
   "outputs": [
    {
     "name": "stdout",
     "output_type": "stream",
     "text": [
      "This program display the Home and Away team name and their score along with winnings..\n"
     ]
    },
    {
     "name": "stdin",
     "output_type": "stream",
     "text": [
      "Enter the home team name:  Latvia\n",
      "Enter the Home team score 1\n",
      "Enter the Away team score:  Sweden\n",
      "Enter the Away team score:  4\n"
     ]
    },
    {
     "name": "stdout",
     "output_type": "stream",
     "text": [
      "Winning team is:  Sweden\n"
     ]
    }
   ],
   "source": [
    "# Program response message\n",
    "print(\"This program display the Home and Away team name and their score along with winnings..\")\n",
    "# input the Home team and score\n",
    "home_team = input(\"Enter the home team name: \")\n",
    "home_score = int(input(\"Enter the Home team score\"))\n",
    "# input the Away team and score\n",
    "away_team = input(\"Enter the Away team score: \")\n",
    "away_score = int(input(\"Enter the Away team score: \"))\n",
    "# Displaying the winnings\n",
    "if home_score > away_score:\n",
    "    print(\"Winning team is: \", home_team)\n",
    "elif home_score == away_score:\n",
    "    print(\"Draw\")\n",
    "else:\n",
    "    print(\"Winning team is: \", away_team)"
   ]
  },
  {
   "cell_type": "markdown",
   "metadata": {},
   "source": [
    "# Q4: Percentage Free Space\n",
    "- An important System Administration task is to monitor the availability of disk space on a computer system:\n",
    "    - If there is no free space, the system might crash;\n",
    "    - If the percentage of free disk space is less than 5% then system performance degrades.\n",
    "    - If at least 5% disk space is available, then system performance is unaffected.\n",
    "\n",
    "- Write a Python program which will input the total disk space and the amount used. The program should then\n",
    "    - check if the amount used exceeds the total disk space; if it does, then a message should be displayed indicating that the input data is invalid;\n",
    "    - otherwise calculate and display the percentage of free space. It should then determine and display a message based on the amount of free space. \n",
    "    \n",
    "Prgram Specification table: \n",
    "\n",
    "| Input | Processing | Output |\n",
    "| --- | --- | --- |\n",
    "| Total Space | Input total space | Percentage free space |\n",
    "| Amount used | Innput amount used |  |\n",
    "|  | Calculate percentage free space |  |\n",
    "|  | Display percentage free space |  |\n",
    "|  | if statement.. |  |"
   ]
  },
  {
   "cell_type": "code",
   "execution_count": 4,
   "metadata": {},
   "outputs": [
    {
     "name": "stdout",
     "output_type": "stream",
     "text": [
      "This program checks free disk space..\n"
     ]
    },
    {
     "name": "stdin",
     "output_type": "stream",
     "text": [
      "Enter total space:  100\n",
      "Enter amount used:  70\n"
     ]
    },
    {
     "name": "stdout",
     "output_type": "stream",
     "text": [
      "The percentage free space is 30.0%\n",
      "System has sufficient disk space.\n"
     ]
    }
   ],
   "source": [
    "# Program response message\n",
    "print(\"This program checks free disk space..\")\n",
    "# input total disk space\n",
    "total_disk_space = float(input(\"Enter total space: \"))\n",
    "# input amount used\n",
    "amount_used = float(input(\"Enter amount used: \"))\n",
    "# calculate the percentage free space\n",
    "percent_free_space = 100 * (total_disk_space - amount_used) / total_disk_space\n",
    "# print percentage free space\n",
    "print(f\"The percentage free space is {percent_free_space:.1f}%\")\n",
    "# display a message based on the percentage free space\n",
    "if percent_free_space == 0:\n",
    "    print(\"Warning: System is full and might crash.\")\n",
    "elif percent_free_space < 5:\n",
    "    print(\"Warning: System has low disk space.\")\n",
    "else:\n",
    "    print(\"System has sufficient disk space.\")"
   ]
  },
  {
   "cell_type": "code",
   "execution_count": null,
   "metadata": {},
   "outputs": [],
   "source": []
  },
  {
   "cell_type": "markdown",
   "metadata": {},
   "source": [
    "# Q5: Power Ratio Conversion\n",
    "- dBm is an abbreviation for the power ratio in decibels (dB) of the measured power referenced to one milliwatt (mW). It is used in radio, microwave and fiber optic networks as a convenient measure of absolute power.\n",
    "\n",
    "- To convert from power P (in milliwatts) to dBm: dBm=10 log10 P\n",
    "- To convert from dBm to power (in milliwatts): P=10^dBm/10\n",
    "\n",
    "- Write a program which will convert power to dBm, or dBm to power, depending on the user's choice. The program should input the required value and display the converted equivalent. If the user inputs an invalid choice, then a suitable error should be displayed.\n",
    "\n",
    "Program Specification table:\n",
    "\n",
    "| Input | Processing | Output |\n",
    "| --- | --- | --- |\n",
    "| choice | Input choice | dBM |\n",
    "| power | if statement.. | power |\n",
    "| dBM |  |  |\n",
    "|  |  |  |\n",
    "|  |  |  |"
   ]
  },
  {
   "cell_type": "code",
   "execution_count": 5,
   "metadata": {},
   "outputs": [
    {
     "name": "stdout",
     "output_type": "stream",
     "text": [
      "This program is for Power Ratio Conversion..\n",
      "1. Power to dBM\n",
      "2. dBm to Power\n"
     ]
    },
    {
     "name": "stdin",
     "output_type": "stream",
     "text": [
      "Enter your choice:  1\n",
      "Enter Power in milliwatts:  100\n"
     ]
    },
    {
     "name": "stdout",
     "output_type": "stream",
     "text": [
      "Power ratio is 20.0 decibels\n"
     ]
    }
   ],
   "source": [
    "# Importing log10 from math module\n",
    "from math import log10\n",
    "# Program response message\n",
    "print(\"This program is for Power Ratio Conversion..\")\n",
    "# display a menu\n",
    "print(\"1. Power to dBM\")\n",
    "print(\"2. dBm to Power\")\n",
    "choice = int(input(\"Enter your choice: \"))\n",
    "# processing the user's choice\n",
    "if choice == 1:\n",
    "    power = float(input(\"Enter Power in milliwatts: \"))\n",
    "    dBM = 10*log10(power)\n",
    "    print(f\"Power ratio is {dBM:.1f} decibels\")\n",
    "elif choice == 2:\n",
    "    dBM = float(input(\"Enter Power Ratio in decibals: \"))\n",
    "    power = 10**(dBM / 10)\n",
    "    print(f\"Power is {power:.1f} milliwatts\")\n",
    "else: \n",
    "    print(\"invalid choice\")"
   ]
  },
  {
   "cell_type": "code",
   "execution_count": null,
   "metadata": {},
   "outputs": [],
   "source": []
  },
  {
   "cell_type": "markdown",
   "metadata": {},
   "source": [
    "# Q6: VAT\n",
    "- The VAT (Value Added Tax) Rates for Ireland are\n",
    "\n",
    "| Category | Rate |\n",
    "| --- | --- |\n",
    "| Standard | 23% |\n",
    "| Reduced | 13.5% |\n",
    "| Lower | 9% |\n",
    "| Livestock | 4.8% |\n",
    "| Exempt | 0% |\n",
    "\n",
    "- Write a program which inputs the price of an item and the VAT category, and then calculates and displays the VAT due and the total price.\n",
    "\n",
    "Program Specification table:\n",
    "\n",
    "| Input | Processing | Output |\n",
    "| --- | --- | --- |\n",
    "| price | Input price | VAT due |\n",
    "| VAT category | Input VAT category | total price |\n",
    "|  | Calculate VAT due based on VAT category |  |\n",
    "|  | Display VAT due |  |\n",
    "|  | Calculate total price |  |\n",
    "|  | Display total price |  |"
   ]
  },
  {
   "cell_type": "code",
   "execution_count": 6,
   "metadata": {},
   "outputs": [
    {
     "name": "stdout",
     "output_type": "stream",
     "text": [
      "This program calculates VAT..\n"
     ]
    },
    {
     "name": "stdin",
     "output_type": "stream",
     "text": [
      "Enter the price of the item:  1200\n",
      "Enter the VAT category:  lower\n"
     ]
    },
    {
     "name": "stdout",
     "output_type": "stream",
     "text": [
      "VAT due is 108.00\n",
      "Total price including VAT is 1308.00\n"
     ]
    }
   ],
   "source": [
    "# Program response message\n",
    "print(\"This program calculates VAT..\")\n",
    "# input price\n",
    "price = float(input(\"Enter the price of the item: \"))\n",
    "# inout VAT category\n",
    "vat_category = input(\"Enter the VAT category: \")\n",
    "# determining VAT rate\n",
    "if vat_category.lower() == \"standard\":\n",
    "    rate = 23\n",
    "elif vat_category.lower() == \"reduced\":\n",
    "    rate = 13.5\n",
    "elif vat_category.lower() == \"lower\":\n",
    "    rate = 9\n",
    "elif vat_category.lower() == \"livestock\":\n",
    "    rate = 4.8\n",
    "elif vat_category.lower() == \"exempt\":\n",
    "    rate = 0\n",
    "    \n",
    "# calculate VAT due\n",
    "vat_due = price*rate / 100\n",
    "print(f\"VAT due is {vat_due:.2f}\")\n",
    "# Calculate total price, including VAT\n",
    "total_price = price+vat_due\n",
    "print(f\"Total price including VAT is {total_price:.2f}\")"
   ]
  },
  {
   "cell_type": "code",
   "execution_count": null,
   "metadata": {},
   "outputs": [],
   "source": []
  },
  {
   "cell_type": "markdown",
   "metadata": {},
   "source": [
    "# Q7: TV Show\n",
    "- (a) A new reality TV show is looking for single people aged between 18 and 35 to take part. Write a program which inputs a person's age and marital status and displays a message indicating whether or not the person is suitable for the TV show.\n",
    "\n",
    "- (b) Due to poor ratings, the producers want to include celebrities on the show, and the eligibility rules do not apply for them. However, they must be a genuine celebrity. The Q Score is a measurement of how famous someone is. The higher the Q Score, the more famous they are. http://en.wikipedia.org/wiki/Q_Score To be considered a “genuine celebrity”, they must have a Q score over 50.\n",
    "\n",
    "- Modify the program so that it inputs a person's age, marital status and Q score and displays a message indicating whether or not the person is suitable for the TV show. Non-celebrities have a zero Q score.\n",
    "\n",
    "Prgramm Specification table: \n",
    "\n",
    "- (a)\n",
    "\n",
    "| Input | Processing | Output |\n",
    "| --- | --- | --- |\n",
    "| age | Input age | message |\n",
    "| martial status | Input martial status |  |\n",
    "|  | if statement... |  |\n",
    "\n",
    "\n",
    "- (b)\n",
    "| Input | Processing | Output |\n",
    "| --- | --- | --- |\n",
    "| Q score | Input Q score | message |\n",
    "| age | if statement... |  |\n",
    "| martial status |  |  |\n",
    "|  |  |  |"
   ]
  },
  {
   "cell_type": "code",
   "execution_count": 9,
   "metadata": {},
   "outputs": [
    {
     "name": "stdout",
     "output_type": "stream",
     "text": [
      "This program is to check suitability for TV show..\n"
     ]
    },
    {
     "name": "stdin",
     "output_type": "stream",
     "text": [
      "Enter your age:  25\n",
      "Enter your martial status:  married\n"
     ]
    },
    {
     "name": "stdout",
     "output_type": "stream",
     "text": [
      "You are not suitable for the TV show.\n"
     ]
    }
   ],
   "source": [
    "# program response message\n",
    "print(\"This program is to check suitability for TV show..\")\n",
    "# input age & martial status\n",
    "age = int(input(\"Enter your age: \"))\n",
    "martial_status = input(\"Enter your martial status: \")\n",
    "# CHeck if the person is suitable for TV show\n",
    "if age >= 18 and age <=35 and martial_status.lower() == \"single\":\n",
    "    print(\"You are suitable for the TV show.\")\n",
    "else: \n",
    "    print(\"You are not suitable for the TV show.\")"
   ]
  },
  {
   "cell_type": "code",
   "execution_count": 10,
   "metadata": {},
   "outputs": [
    {
     "name": "stdout",
     "output_type": "stream",
     "text": [
      "This program is to check suitability for TV show..\n"
     ]
    },
    {
     "name": "stdin",
     "output_type": "stream",
     "text": [
      "Enter your age:  28\n",
      "Enter your martial status:  single\n"
     ]
    },
    {
     "name": "stdout",
     "output_type": "stream",
     "text": [
      "You are suitable for the TV show.\n"
     ]
    }
   ],
   "source": [
    "# 2nd aproach for 7(a)\n",
    "# program response message\n",
    "print(\"This program is to check suitability for TV show..\")\n",
    "# input age & martial status\n",
    "age = int(input(\"Enter your age: \"))\n",
    "martial_status = input(\"Enter your martial status: \")\n",
    "# CHeck if the person is suitable for TV show\n",
    "if martial_status.lower() == \"single\" and 18 <= age <= 35: # tenery condition within if-else statement\n",
    "# if age >= 18 and age <=35 and martial_status.lower() == \"single\":\n",
    "    print(\"You are suitable for the TV show.\")\n",
    "else: \n",
    "    print(\"You are not suitable for the TV show.\")"
   ]
  },
  {
   "cell_type": "code",
   "execution_count": 12,
   "metadata": {},
   "outputs": [
    {
     "name": "stdout",
     "output_type": "stream",
     "text": [
      "This progeram is to check suitability for TV show based on celebrity Q score...\n"
     ]
    },
    {
     "name": "stdin",
     "output_type": "stream",
     "text": [
      "Enter your valid Q score rating:  45\n",
      "Please enter your age:  28\n",
      "Enter your martial status:  single\n"
     ]
    },
    {
     "name": "stdout",
     "output_type": "stream",
     "text": [
      "You are not suitable for TV show.\n"
     ]
    }
   ],
   "source": [
    "# 7(b) for Celebrity suitability\n",
    "# program response message\n",
    "print(\"This progeram is to check suitability for TV show based on celebrity Q score...\")\n",
    "# input Q score\n",
    "q_score = int(input(\"Enter your valid Q score rating: \"))\n",
    "# displaying the suitability based on q_score\n",
    "if q_score >= 50:\n",
    "    print(\"You are suitable for the  TV show.\")\n",
    "else: \n",
    "    age = int(input(\"Please enter your age: \"))\n",
    "    martial_status = input(\"Enter your martial status: \")\n",
    "    if martial_status.lower() == \"single\" and 18 <= age >= 35:\n",
    "        print(\"You are suitable for the TV show.\")\n",
    "    else:\n",
    "        print(\"You are not suitable for TV show.\")"
   ]
  },
  {
   "cell_type": "markdown",
   "metadata": {},
   "source": [
    "# Q8: Income Limits for Maintenance Grant (Again)\n",
    "- The family income limits for eligibility for a full maintenance grant in 2019-2020 were as follows\n",
    "\n",
    "| Numbner of dependents | Full Maintance |\n",
    "| --- | --- |\n",
    "| less than 4  | €39,875 |\n",
    "| 4 to 7 | €43,810 |\n",
    "| 8 or more | €47,575 |\n",
    "\n",
    "- Write a program which inputs the number of dependents income, and then displays a message indicating whether or not a person is eligible for a full maintenance grant.\n",
    "\n",
    "Program specification table:\n",
    "\n",
    "| Input | Processing | Output |\n",
    "| --- | --- | --- |\n",
    "| Number of dependents | Input number of dependents| message |\n",
    "| income | Input income |  |\n",
    "|  | if statement.. |  |"
   ]
  },
  {
   "cell_type": "code",
   "execution_count": 13,
   "metadata": {},
   "outputs": [
    {
     "name": "stdout",
     "output_type": "stream",
     "text": [
      "This program is to check eligiblity for family if they are qualified for the full maintenance program..\n"
     ]
    },
    {
     "name": "stdin",
     "output_type": "stream",
     "text": [
      "Enter the number of dependents:  5\n",
      "Enter the income:  43810\n"
     ]
    },
    {
     "name": "stdout",
     "output_type": "stream",
     "text": [
      "You are eligible for the full maintenance grant.\n"
     ]
    }
   ],
   "source": [
    "# program response message\n",
    "print(\"This program is to check eligiblity for family if they are qualified for the full maintenance program..\")\n",
    "# input the number of dependents\n",
    "num_dependent = int(input(\"Enter the number of dependents: \"))\n",
    "# inpout income\n",
    "income = float(input(\"Enter the income: \"))\n",
    "# check eligiblity based on number of dependents and income\n",
    "if num_dependent < 4 and income <= 39785:\n",
    "    eligible = True\n",
    "elif num_dependent <= 7 and income <= 43810:\n",
    "    eligible = True\n",
    "elif num_dependent >=8 and income <= 47575:\n",
    "    eligible = True\n",
    "else:\n",
    "    eligible = False\n",
    "# displaying eligiblity \n",
    "if eligible:\n",
    "    print(\"You are eligible for the full maintenance grant.\")\n",
    "else:\n",
    "    print(\"You are not eligible for the full maintenance grant.\")"
   ]
  },
  {
   "cell_type": "code",
   "execution_count": null,
   "metadata": {},
   "outputs": [],
   "source": []
  },
  {
   "cell_type": "markdown",
   "metadata": {},
   "source": [
    "# Q9: Validate Email Address\n",
    "- ABC's Wireless service, EduRoam, requires that users login using their email address. The email address must be a valid Student email address (in the form A01123456@student.a01.ie) or a valid Staff email address (in the form jbloggs@a01.ie), based on the following:\n",
    "    - Student Email: starts with “A01” and ends with @student.a01.ie\n",
    "    - Staff Email: ends with @a01.ie\n",
    "    - Otherwise: not a valid A01 email address\n",
    "\n",
    "- Write a Python program which will input an email address, and determine and display a message indicating whether or not it appears to be a valid A01 Student or Staff email address.\n",
    "\n",
    "Programm Specification table:\n",
    "\n",
    "| Input | Processing | Output |\n",
    "| --- | --- | --- |\n",
    "| email address | Input email address| message |\n",
    "|  | if statement.. |  |"
   ]
  },
  {
   "cell_type": "code",
   "execution_count": 14,
   "metadata": {},
   "outputs": [
    {
     "name": "stdout",
     "output_type": "stream",
     "text": [
      "This program validates email addresses for use with education room..\n"
     ]
    },
    {
     "name": "stdin",
     "output_type": "stream",
     "text": [
      "Enter you email address:  surekuamr@ao1.ie\n"
     ]
    },
    {
     "name": "stdout",
     "output_type": "stream",
     "text": [
      "Valid A01 staff email address.\n"
     ]
    }
   ],
   "source": [
    "# Program response message\n",
    "print(\"This program validates email addresses for use with education room..\")\n",
    "# input email address\n",
    "email_address = input(\"Enter you email address: \")\n",
    "# is it valid email or not to enter into education room\n",
    "if email_address.startswith(\"A01\") and email_address.endswith(\"@student.a01.ie\"):\n",
    "    print(\"Valid A01 student email address.\")\n",
    "elif email_address.endswith(\"@ao1.ie\"):\n",
    "    print(\"Valid A01 staff email address.\")\n",
    "else:\n",
    "    print(\"Not a valid A01 email address.\")"
   ]
  },
  {
   "cell_type": "code",
   "execution_count": null,
   "metadata": {},
   "outputs": [],
   "source": []
  }
 ],
 "metadata": {
  "kernelspec": {
   "display_name": "Python 3",
   "language": "python",
   "name": "python3"
  },
  "language_info": {
   "codemirror_mode": {
    "name": "ipython",
    "version": 3
   },
   "file_extension": ".py",
   "mimetype": "text/x-python",
   "name": "python",
   "nbconvert_exporter": "python",
   "pygments_lexer": "ipython3",
   "version": "3.7.6"
  }
 },
 "nbformat": 4,
 "nbformat_minor": 4
}
