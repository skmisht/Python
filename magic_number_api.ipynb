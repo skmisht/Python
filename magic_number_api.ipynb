{
 "cells": [
  {
   "cell_type": "code",
   "execution_count": 1,
   "metadata": {},
   "outputs": [
    {
     "name": "stdin",
     "output_type": "stream",
     "text": [
      "Enter the number of attempts:  1\n"
     ]
    },
    {
     "name": "stdout",
     "output_type": "stream",
     "text": [
      "This is an attempt 0\n"
     ]
    },
    {
     "name": "stdin",
     "output_type": "stream",
     "text": [
      "Enter a number between 0 and 9:  3\n"
     ]
    },
    {
     "name": "stdout",
     "output_type": "stream",
     "text": [
      "you did not get the Magic Number.\n"
     ]
    }
   ],
   "source": [
    "# Magic Number APP - gives users multiple chances of [0,1,2] along with user's attempts (3)\n",
    "import random\n",
    "\n",
    "#creating list of 2-random numbers by random.randit(0, 9)\n",
    "magic_numbers = [random.randint(0, 9), random.randint(0, 9)]\n",
    "\n",
    "def ask_user_and_check_number():\n",
    "    \"\"\"ask for random number and converted into actual number by int()\"\"\"\n",
    "    user_number = int(input(\"Enter a number between 0 and 9: \"))\n",
    "    if user_number in magic_numbers:\n",
    "        return \"you got the Magic Number!\"\n",
    "    if user_number not in magic_numbers:\n",
    "        return \"you did not get the Magic Number.\"\n",
    "\n",
    "\n",
    "\n",
    "def run_program_times(chances):\n",
    "    \"\"\"run program 3 times along with attempts message for users\"\"\"\n",
    "    for attempt in range(chances): # repeating attempts 3 times\n",
    "        print(\"This is an attempt {}\".format(attempt))\n",
    "        message = ask_user_and_check_number()\n",
    "        print(message)\n",
    "\n",
    "attempts_by_user = int(input(\"Enter the number of attempts: \"))\n",
    "run_program_times(attempts_by_user)"
   ]
  }
 ],
 "metadata": {
  "kernelspec": {
   "display_name": "Python 3",
   "language": "python",
   "name": "python3"
  },
  "language_info": {
   "codemirror_mode": {
    "name": "ipython",
    "version": 3
   },
   "file_extension": ".py",
   "mimetype": "text/x-python",
   "name": "python",
   "nbconvert_exporter": "python",
   "pygments_lexer": "ipython3",
   "version": "3.7.6"
  }
 },
 "nbformat": 4,
 "nbformat_minor": 4
}
