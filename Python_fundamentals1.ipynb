{
 "cells": [
  {
   "cell_type": "markdown",
   "metadata": {},
   "source": [
    "# 1. Simple Exercise of \"Hello World\""
   ]
  },
  {
   "cell_type": "markdown",
   "metadata": {},
   "source": [
    "Q1: Hello World\n",
    "Write a Python program which displays the message “Hello World”. Test the program."
   ]
  },
  {
   "cell_type": "code",
   "execution_count": 1,
   "metadata": {},
   "outputs": [
    {
     "name": "stdout",
     "output_type": "stream",
     "text": [
      "Hello World\n"
     ]
    }
   ],
   "source": [
    "print(\"Hello World\")"
   ]
  },
  {
   "cell_type": "markdown",
   "metadata": {},
   "source": [
    "Q2:Hello User\n",
    "Write a Python program which inputs the user's name and displays a suitable greeting which\n",
    "includes the user's name. Test the program."
   ]
  },
  {
   "cell_type": "code",
   "execution_count": 2,
   "metadata": {},
   "outputs": [
    {
     "name": "stdin",
     "output_type": "stream",
     "text": [
      "Please enter your name:  Surender Kumar\n"
     ]
    },
    {
     "name": "stdout",
     "output_type": "stream",
     "text": [
      "Hello Surender Kumar. Welcome to python!\n"
     ]
    }
   ],
   "source": [
    "name = input(\"Please enter your name: \")\n",
    "print(f\"Hello {name}. Welcome to python!\")"
   ]
  },
  {
   "cell_type": "markdown",
   "metadata": {},
   "source": [
    "# Guidelines for the Exercises\n",
    "For each of the following exercises:\n",
    "- Include a comment to describe the purpose of the program\n",
    "- Display output to describe the purpose of the program\n",
    "- Test the program (use sample values where provided)"
   ]
  },
  {
   "cell_type": "markdown",
   "metadata": {},
   "source": [
    "# 2. Calculation Excercise"
   ]
  },
  {
   "cell_type": "markdown",
   "metadata": {},
   "source": [
    "# Q3:Miles to Kilometres\n",
    "- The formula to convert miles to kilometres is:\n",
    "   kilometres = miles × 1.60934\n",
    "- Design and write a program inputs a distance in miles, converts it into kilometres using the formula and display the number of kilometres on the screen?\n",
    "\n",
    "- Specification:\n",
    "    - Input\n",
    "        - miles\n",
    "    - Processing\n",
    "        - input miles\n",
    "        - convert to kms\n",
    "        - display kms\n",
    "    - Output\n",
    "        - kms"
   ]
  },
  {
   "cell_type": "code",
   "execution_count": 4,
   "metadata": {},
   "outputs": [
    {
     "name": "stdout",
     "output_type": "stream",
     "text": [
      "This program converts miles into kilometers..\n"
     ]
    },
    {
     "name": "stdin",
     "output_type": "stream",
     "text": [
      "Please enter the distance into miles? 23\n"
     ]
    },
    {
     "name": "stdout",
     "output_type": "stream",
     "text": [
      "The distance in km is:  37.01482\n"
     ]
    }
   ],
   "source": [
    "# Displaying the programm message\n",
    "print(\"This program converts miles into kilometers..\")\n",
    "# Input miles\n",
    "miles = float(input(\"Please enter the distance into miles?\"))\n",
    "# Converting miles into km\n",
    "kilometers = miles*1.60934\n",
    "# Output - displaying Km on screen\n",
    "print(f\"The distance in km is: \", kilometers)"
   ]
  },
  {
   "cell_type": "markdown",
   "metadata": {},
   "source": [
    "# Q4: Download Time\n",
    "- The time (in seconds) to download a file based on the size of the file (in MB) and the speed of the connection (in Mbps) is given by the formula\n",
    "    - time = (filesize*8.388608) / (Connection speed)\n",
    "    - e.g. (8.388608 = (8*1024^2)/1000000)\n",
    "    \n",
    "- Design and write a program which inputs the size of a file and the connection, speed and then calculates and displays the download time?\n",
    "\n",
    "- Specification:\n",
    "    - Input\n",
    "        - filesize & connection speed\n",
    "    - Processing\n",
    "        - input filesize & connection speed\n",
    "        - calculate download time\n",
    "        - display download time\n",
    "    - Output\n",
    "        - download time"
   ]
  },
  {
   "cell_type": "code",
   "execution_count": 6,
   "metadata": {},
   "outputs": [
    {
     "name": "stdout",
     "output_type": "stream",
     "text": [
      "This programm calculates the download time for a file..\n"
     ]
    },
    {
     "name": "stdin",
     "output_type": "stream",
     "text": [
      "Please enter the file size in MB:  10\n",
      "Enter the connection speed in Mbps:  1.544\n"
     ]
    },
    {
     "name": "stdout",
     "output_type": "stream",
     "text": [
      "Download time is: 54.33 seconds\n"
     ]
    }
   ],
   "source": [
    "# program message\n",
    "print(\"This programm calculates the download time for a file..\")\n",
    "# input - filesize(MB)\n",
    "file_size = float(input(\"Please enter the file size in MB: \"))\n",
    "# input - connection_speed(Mbps)\n",
    "connection_speed = float(input(\"Enter the connection speed in Mbps: \"))\n",
    "# Download time formula\n",
    "download_time = file_size*8.388608 / connection_speed\n",
    "# Display download time\n",
    "print(f\"Download time is: {download_time:.2f} seconds\")"
   ]
  },
  {
   "cell_type": "markdown",
   "metadata": {},
   "source": [
    "# Q5: Area Perimeter\n",
    "- Design and write a programm which will calculate the area perimeeter of a rectangular room.\n",
    "\n",
    "- The neccessary formula are\n",
    "    - area = length*width\n",
    "    - perimeter = 2*(length + width)\n",
    "    \n",
    "- Specification:\n",
    "    - Input\n",
    "        - length\n",
    "        - width\n",
    "    - Processing\n",
    "        - input length & width\n",
    "        - calculate area & perimeter\n",
    "        - display area & perimeter\n",
    "    - Output\n",
    "        - area & perimeter"
   ]
  },
  {
   "cell_type": "code",
   "execution_count": 10,
   "metadata": {},
   "outputs": [
    {
     "name": "stdout",
     "output_type": "stream",
     "text": [
      "This program caluclates the area(sqm) and perimeter(m) of a rectangle..\n"
     ]
    },
    {
     "name": "stdin",
     "output_type": "stream",
     "text": [
      "Enter the length in metres:  10\n",
      "Enter the width in metres:  5\n"
     ]
    },
    {
     "name": "stdout",
     "output_type": "stream",
     "text": [
      "The area is 50.00 square metres.\n",
      "The perimeter is 30.00 metres.\n"
     ]
    }
   ],
   "source": [
    "# Program respone message\n",
    "print(\"This program caluclates the area(sqm) and perimeter(m) of a rectangle..\")\n",
    "# input - length\n",
    "length = float(input(\"Enter the length in metres: \"))\n",
    "# input width\n",
    "width = float(input(\"Enter the width in metres: \"))\n",
    "# area folmula\n",
    "area = length*width\n",
    "# perimeter formula\n",
    "perimeter = 2*(length+width)\n",
    "# Displaying area & perimter\n",
    "print(f\"The area is {area:.2f} square metres.\")\n",
    "print(f\"The perimeter is {perimeter:.2f} metres.\")"
   ]
  },
  {
   "cell_type": "markdown",
   "metadata": {},
   "source": [
    "# Q6: Feet and Inches to Metres\n",
    "- The Imperial System of measurement uses feet and inches to measure short distances. The following formulae can be used to convert a distance in feet and inches to metres\n",
    "    - total inches = feet*12+inches\n",
    "    - centimetres = total inches*2.54\n",
    "    - metres = centimetres / 100\n",
    "\n",
    "- Design and write a program which inputs a distance in feet and inches and then calculates and displays the distance in metres.\n",
    "\n",
    "- Specification:\n",
    "    - Input\n",
    "        - feet\n",
    "        - inches\n",
    "    - Processing\n",
    "        - input feet & inches\n",
    "        - calculate total inches, centimetres, metres\n",
    "        - display metres\n",
    "    - Output\n",
    "        - metres"
   ]
  },
  {
   "cell_type": "code",
   "execution_count": 12,
   "metadata": {},
   "outputs": [
    {
     "name": "stdout",
     "output_type": "stream",
     "text": [
      "This program converts a distance in feet and inches to metres..\n"
     ]
    },
    {
     "name": "stdin",
     "output_type": "stream",
     "text": [
      "Enter the number of feet:  29\n",
      "Enter the number of inches:  2.5\n"
     ]
    },
    {
     "name": "stdout",
     "output_type": "stream",
     "text": [
      "The distance in metres is 8.90 metres.\n"
     ]
    }
   ],
   "source": [
    "# Programm response message\n",
    "print(\"This program converts a distance in feet and inches to metres..\")\n",
    "# input feet\n",
    "feet = float(input(\"Enter the number of feet: \"))\n",
    "# input inches\n",
    "inches = float(input(\"Enter the number of inches: \"))\n",
    "# total_inches formula\n",
    "total_inches = feet*12 + inches\n",
    "# centimetres formula\n",
    "centimetres = total_inches*2.54\n",
    "# metres formula\n",
    "metres = centimetres / 100\n",
    "# Displaying Ouptut distance in metres\n",
    "print(f\"The distance in metres is {metres:.2f} metres.\")"
   ]
  },
  {
   "cell_type": "markdown",
   "metadata": {},
   "source": [
    "# 3. Using String methods"
   ]
  },
  {
   "cell_type": "markdown",
   "metadata": {},
   "source": [
    "# Q7: Working with Strings\n",
    "- Write a program which inputs a sentence and then displays\n",
    "    - the number of characters in the string (the length of the string)\n",
    "    - the first character in the string\n",
    "    - the last character in the string\n",
    "    - the string converted to uppercase\n",
    "    - the string converted to lowercase\n",
    "    - the string with the title() method applied\n",
    "    - the string with the swapcase() method applied\n",
    "    - the number of spaces in the string"
   ]
  },
  {
   "cell_type": "code",
   "execution_count": 15,
   "metadata": {},
   "outputs": [
    {
     "name": "stdout",
     "output_type": "stream",
     "text": [
      "This program demonstrates the feature of strings..\n"
     ]
    },
    {
     "name": "stdin",
     "output_type": "stream",
     "text": [
      "Enter a sentence:  People say nothing is impossible, but I do nothing every day\n"
     ]
    },
    {
     "name": "stdout",
     "output_type": "stream",
     "text": [
      "Number of characters:  60\n",
      "First character:  P\n",
      "Last character:  y\n",
      "Uppercased:  PEOPLE SAY NOTHING IS IMPOSSIBLE, BUT I DO NOTHING EVERY DAY\n",
      "Lowercased:  people say nothing is impossible, but i do nothing every day\n",
      "Titled:  People Say Nothing Is Impossible, But I Do Nothing Every Day\n",
      "Swapcased:  pEOPLE SAY NOTHING IS IMPOSSIBLE, BUT i DO NOTHING EVERY DAY\n",
      "Number of spaces in the string:  10\n"
     ]
    }
   ],
   "source": [
    "# Program response message\n",
    "print(\"This program demonstrates the feature of strings..\")\n",
    "# Input a sentence\n",
    "sentence = input(\"Enter a sentence: \")\n",
    "# the number of characters in the string (the length of the string)\n",
    "print(\"Number of characters: \", len(sentence))\n",
    "# the first character in the string\n",
    "print(\"First character: \", sentence[0])\n",
    "# the last character in the string\n",
    "print(\"Last character: \", sentence[len(sentence)-1])\n",
    "# the string converted into uppercase\n",
    "print(\"Uppercased: \", sentence.upper())\n",
    "# the string converted into lowercase\n",
    "print(\"Lowercased: \", sentence.lower())\n",
    "# the string with title() method applied\n",
    "print(\"Titled: \", sentence.title())\n",
    "# the string with swapcase() method applied\n",
    "print(\"Swapcased: \", sentence.swapcase())\n",
    "# the number of space in the string\n",
    "print(\"Number of spaces in the string: \", sentence.count(\" \"))"
   ]
  },
  {
   "cell_type": "markdown",
   "metadata": {},
   "source": [
    "# Q8: Generate a Username\n",
    "- Write a program which inputs a user's fullname (in the format firstname lastname) and then \n",
    "    - splits the fullname into firstname and lastname\n",
    "        - firstname, lastname = fullname.split()\n",
    "    - generates a username as the firstname followed by the first character of the lastname\n",
    "    - converts the username to lowercase\n",
    "- and then displays the username.\n",
    "\n",
    "- Specification:\n",
    "    - Input\n",
    "        - fullname\n",
    "    - Processing\n",
    "        - input fullname\n",
    "        - create username\n",
    "        - display username\n",
    "    - Output\n",
    "        - username"
   ]
  },
  {
   "cell_type": "code",
   "execution_count": 18,
   "metadata": {},
   "outputs": [
    {
     "name": "stdout",
     "output_type": "stream",
     "text": [
      "This program generates a username from user's firstname and lastname..\n"
     ]
    },
    {
     "name": "stdin",
     "output_type": "stream",
     "text": [
      "Enter your name in the format of firstname lastname:  Surender Kumar\n"
     ]
    },
    {
     "name": "stdout",
     "output_type": "stream",
     "text": [
      "Username:  surenderk\n"
     ]
    }
   ],
   "source": [
    "# Program response message \n",
    "print(\"This program generates a username from user's firstname and lastname..\")\n",
    "# input fullname\n",
    "fullname = input(\"Enter your name in the format of firstname lastname: \")\n",
    "# input fullname and firstname using split() method\n",
    "firstname, lastname = fullname.split()\n",
    "# generate the username as the firstname followed by the first character of lastname\n",
    "username = firstname+lastname[0]\n",
    "# Converting username into lower case\n",
    "username = username.lower()\n",
    "# Display username\n",
    "print(\"Username: \", username)"
   ]
  },
  {
   "cell_type": "markdown",
   "metadata": {},
   "source": [
    "# 3. Using random module and the String module"
   ]
  },
  {
   "cell_type": "markdown",
   "metadata": {},
   "source": [
    "# Q9: Rolling 2 Dice\n",
    "- Write a program which simulates rolling 2 dice. The program should\n",
    "    - randomly generate a number between 1 and 6 and display it\n",
    "    - randomly generate another number between 1 and 6 and display it\n",
    "    - calculate the total of the two numbers and display it"
   ]
  },
  {
   "cell_type": "code",
   "execution_count": 25,
   "metadata": {},
   "outputs": [
    {
     "name": "stdout",
     "output_type": "stream",
     "text": [
      "This program simulates rolling 2 dice..\n",
      "\n",
      "First number:  2\n",
      "Second number:  1\n",
      "Total:  3\n"
     ]
    }
   ],
   "source": [
    "# importing randit() to generate the random number from 1 to 6\n",
    "from random import randint\n",
    "# program response message\n",
    "print(\"This program simulates rolling 2 dice..\")\n",
    "print()\n",
    "# randomly generate a number between 1 & 6 and display it\n",
    "number1 = randint(1, 6)\n",
    "print(\"First number: \", number1)\n",
    "# randomly generate another number between 1&6 and display it\n",
    "number2 = randint(1, 6)\n",
    "print(\"Second number: \", number2)\n",
    "# calculate the total of the two numbers and display it\n",
    "total = number1+number2\n",
    "print(\"Total: \", total)"
   ]
  },
  {
   "cell_type": "markdown",
   "metadata": {},
   "source": [
    "# Q10: Generate random characters for a password\n",
    "- Write a program which generates a password by\n",
    "    - inputting two words from the user\n",
    "    - randomly selecting a digit\n",
    "    - randomly selecting a punctuation character\n",
    "    - generates the password by joining the words with the digit and character as you see fit\n",
    "    - displays the password\n",
    "    \n",
    "    \n",
    "- Specification: \n",
    "    - Input\n",
    "        - word1, word2\n",
    "    - Processing\n",
    "        - input word1 & word2\n",
    "        - select random digit and character\n",
    "        - generate password\n",
    "        - display password\n",
    "    - Output\n",
    "        - password"
   ]
  },
  {
   "cell_type": "code",
   "execution_count": 28,
   "metadata": {},
   "outputs": [
    {
     "name": "stdout",
     "output_type": "stream",
     "text": [
      "This program generates password based on random characters..\n"
     ]
    },
    {
     "name": "stdin",
     "output_type": "stream",
     "text": [
      "Enter the first word:  banana\n",
      "Enter the second word:  strawberry\n"
     ]
    },
    {
     "name": "stdout",
     "output_type": "stream",
     "text": [
      "Password:  Banana3Strawberry_\n"
     ]
    }
   ],
   "source": [
    "# Importing choice() from random, and string()\n",
    "import string \n",
    "from random import choice\n",
    "# program response\n",
    "print(\"This program generates password based on random characters..\")\n",
    "# inputting two words from the user\n",
    "word1 = input(\"Enter the first word: \")\n",
    "word2 = input(\"Enter the second word: \")\n",
    "# randomly selecting a digit\n",
    "digit = choice(string.digits)\n",
    "# randomly selecting a punctuation character\n",
    "character = choice(string.punctuation)\n",
    "# genrating the possword by joiing the words with digit and character\n",
    "password = word1.capitalize()+digit+word2.capitalize()+character\n",
    "# display password\n",
    "print(\"Password: \", password)"
   ]
  },
  {
   "cell_type": "markdown",
   "metadata": {},
   "source": [
    "# 5. Mathematical Exerxcise"
   ]
  },
  {
   "cell_type": "markdown",
   "metadata": {},
   "source": [
    "# Q11: Voltage in a DC\n",
    "- The voltage in a DC circuit can be calculated using the formula:\n",
    "    - voltage=√ power*resistance\n",
    "- Design and write a program which inputs the power and resistance in a DC circuit and then calculates and displays the voltage.\n",
    "\n",
    "- Specification: \n",
    "    - Input\n",
    "        - power\n",
    "        - resistance\n",
    "    - Processing\n",
    "        - input power, resistance\n",
    "        - calculate voltage\n",
    "        - display voltage\n",
    "    - Output\n",
    "        - voltage"
   ]
  },
  {
   "cell_type": "code",
   "execution_count": 34,
   "metadata": {},
   "outputs": [
    {
     "name": "stdout",
     "output_type": "stream",
     "text": [
      "This program calculates the Voltage in a DC circuit..\n"
     ]
    },
    {
     "name": "stdin",
     "output_type": "stream",
     "text": [
      "Enter the power:  34\n",
      "Enter the resistance:  5\n"
     ]
    },
    {
     "name": "stdout",
     "output_type": "stream",
     "text": [
      "Voltage is 13.04\n"
     ]
    }
   ],
   "source": [
    "# importing math package\n",
    "from math import sqrt\n",
    "# Program response message\n",
    "print(\"This program calculates the Voltage in a DC circuit..\")\n",
    "# input power and resistance\n",
    "power = float(input(\"Enter the power: \"))\n",
    "resistance = float(input(\"Enter the resistance: \"))\n",
    "# Voltage formula\n",
    "voltage = sqrt(power*resistance)\n",
    "# Displaying Voltage\n",
    "print(f\"Voltage is {voltage:.2f}\")"
   ]
  },
  {
   "cell_type": "markdown",
   "metadata": {},
   "source": [
    "# Q12. Network Throughput\n",
    "- Network throughput is the average rate of successful message delivery over a communication channel. \n",
    "- Maximum achievable throughput for a single TCP connection is determined by different factors. \n",
    "\n",
    "- In the case of light to moderate packet loss when the TCP rate is limited by the congestion avoidance algorithm, the throughput limit can be calculated according to the formula\n",
    "    - limit= MSS / RTT √ P loss  where \n",
    "        - MSS is the maximum segment size\n",
    "        - RTT is the round-trip time and\n",
    "        - Ploss is the probability of packet loss.\n",
    "\n",
    "- Design and write a program which calculates and displays the throughput limit based on the maximum segment size (MSS), the round-trip time RTT and the probability of packet loss.\n",
    "\n",
    "- Specification: \n",
    "    - Input\n",
    "        - MSS, RTT & Ploss\n",
    "    - Processing\n",
    "        - Input MSS, RTT & Ploss\n",
    "        - calculate limit\n",
    "        - display limit\n",
    "    - Output\n",
    "        - limit"
   ]
  },
  {
   "cell_type": "code",
   "execution_count": 38,
   "metadata": {},
   "outputs": [
    {
     "name": "stdout",
     "output_type": "stream",
     "text": [
      "This program calculates the limit associated with network Throughput..\n"
     ]
    },
    {
     "name": "stdin",
     "output_type": "stream",
     "text": [
      "Enter the maximum segment size (MSS):  1024\n",
      "Enter the round-trip time:  0.05\n",
      "Enter the probablity of packet loss:  0.01\n"
     ]
    },
    {
     "name": "stdout",
     "output_type": "stream",
     "text": [
      "LIMIT is 204800.00\n"
     ]
    }
   ],
   "source": [
    "# Program response message\n",
    "print(\"This program calculates the limit associated with network Throughput..\")\n",
    "# input MSS, RTT & P loss\n",
    "maximum_segment_size = float(input(\"Enter the maximum segment size (MSS): \"))\n",
    "round_trip_time = float(input(\"Enter the round-trip time: \"))\n",
    "packet_loss = float(input(\"Enter the probablity of packet loss: \"))\n",
    "# Calculate the LIMIT\n",
    "limit = maximum_segment_size / (round_trip_time*sqrt(packet_loss))\n",
    "# Display limit\n",
    "print(f\"LIMIT is {limit:.2f}\")"
   ]
  },
  {
   "cell_type": "markdown",
   "metadata": {},
   "source": [
    "# Q13: Resonant frequency of an LC Circuit\n",
    "- An LC circuit, also called a resonant circuit, consists of an\n",
    "inductor, represented by the letter L, and a capacitor, represented\n",
    "by the letter C. \n",
    "- The resonent frequency is given by the formula\n",
    "    - f = 1/(2π √LC) where\n",
    "        - L is the inductance in henries\n",
    "        - C is the capacitance in farads\n",
    "- Design and write a program which inputs the values of the inductance and the capacitance and then calculates and displays the resonant frequency on an LC circuit.\n",
    "\n",
    "- Specification: \n",
    "    - Input\n",
    "        - inductance\n",
    "        - capacitance\n",
    "    - Processing\n",
    "        - input inductance & capacitance\n",
    "        - calculate frequency\n",
    "        - display frequency\n",
    "    - Output\n",
    "        - frequency"
   ]
  },
  {
   "cell_type": "code",
   "execution_count": 42,
   "metadata": {},
   "outputs": [
    {
     "name": "stdout",
     "output_type": "stream",
     "text": [
      "This program calculates the Resonant frequency on an LC circuit..\n"
     ]
    },
    {
     "name": "stdin",
     "output_type": "stream",
     "text": [
      "Enter the inductance:  1.5\n",
      "Enter the capacitance:  0.000000039\n"
     ]
    },
    {
     "name": "stdout",
     "output_type": "stream",
     "text": [
      "Resonant Frequency: 658.025\n"
     ]
    }
   ],
   "source": [
    "# Importing pie from math\n",
    "from math import pi, sqrt\n",
    "# program response message\n",
    "print(\"This program calculates the Resonant frequency on an LC circuit..\")\n",
    "# Input inductance & Capacitance\n",
    "inductance = float(input(\"Enter the inductance: \"))\n",
    "capacitance = float(input(\"Enter the capacitance: \"))\n",
    "# Resonant Frequency formula\n",
    "frequency = 1 / (2*pi*sqrt(inductance*capacitance))\n",
    "# Display the Resonant Frequency\n",
    "print(f\"Resonant Frequency: {frequency:.3f}\")"
   ]
  },
  {
   "cell_type": "markdown",
   "metadata": {},
   "source": [
    "# Q14: Distance between two-points\n",
    "- In co-ordinate geometry, the distance between two points (x1, y1) and (x2, y2) is\n",
    "    - d=√(x2−x1)^2+(y2−y1)^2\n",
    "- Design and write a program which inputs the co-ordinates of the two points and then calculates and displays the distance between them.\n",
    "- Hints: For use the Math function hyplot(x1-x2, y1-y2)\n",
    "\n",
    "- Specification:\n",
    "    - Input\n",
    "        - x1, x2, y1, y2\n",
    "    - Processing\n",
    "        - Input x1, x2, y1, y2\n",
    "        - Calculate distance\n",
    "        - Display distance\n",
    "    - Output\n",
    "        - distance"
   ]
  },
  {
   "cell_type": "code",
   "execution_count": 44,
   "metadata": {},
   "outputs": [
    {
     "name": "stdout",
     "output_type": "stream",
     "text": [
      "This program calculates the distance between two points..\n"
     ]
    },
    {
     "name": "stdin",
     "output_type": "stream",
     "text": [
      "Enter the x-coordinate of the first point:  -2\n",
      "Enter the y-coordinate of the first point:  1\n",
      "Enter the x-coordinate of the second point:  1\n",
      "Enter the y-coordinate of the second point:  5\n"
     ]
    },
    {
     "name": "stdout",
     "output_type": "stream",
     "text": [
      "Distance is: 5.00\n"
     ]
    }
   ],
   "source": [
    "#importing hypot from math\n",
    "from math import hypot\n",
    "# Program message\n",
    "print(\"This program calculates the distance between two points..\")\n",
    "# input x & y coordinates of first & second point\n",
    "x1 = float(input(\"Enter the x-coordinate of the first point: \"))\n",
    "y1 = float(input(\"Enter the y-coordinate of the first point: \"))\n",
    "x2 = float(input(\"Enter the x-coordinate of the second point: \"))\n",
    "y2 = float(input(\"Enter the y-coordinate of the second point: \"))\n",
    "# calculate the distance between two function - hypot formula\n",
    "distance = hypot(x1-x2, y1-y2)\n",
    "# Displaying distance\n",
    "print(f\"Distance is: {distance:.2f}\")"
   ]
  },
  {
   "cell_type": "markdown",
   "metadata": {},
   "source": [
    "# Q15: Root & Quadratic\n",
    "- The roots of a quadratic equation are given by the formula\n",
    "    - x = −b±√b^2−4ac / (2a)\n",
    "- Design and write a program which inputs the co-efficients a calculates and displays the roots of the quadratic equation. (The roots are the values of x where y is zero).\n",
    "- Hints: You need to calculate the 2 roots separately. The best approach involves calculating the determinant, b^2−4ac and storing it in a variable.\n",
    "\n",
    "- Specification: \n",
    "    - Input\n",
    "        - a, b & c\n",
    "    - Processing\n",
    "        - Input a, b & c\n",
    "        - Calculate determinant, root1 & root2\n",
    "        - Display root1 & root2\n",
    "    - Output\n",
    "        - root1 & root2"
   ]
  },
  {
   "cell_type": "code",
   "execution_count": 45,
   "metadata": {},
   "outputs": [
    {
     "name": "stdout",
     "output_type": "stream",
     "text": [
      "This program calculates the roots of a quadratic equation..\n"
     ]
    },
    {
     "name": "stdin",
     "output_type": "stream",
     "text": [
      "Enter coefficients a:  2\n",
      "Enter coefficients b:  -5\n",
      "Enter coefficients c:  -3\n"
     ]
    },
    {
     "name": "stdout",
     "output_type": "stream",
     "text": [
      "\n",
      "The solution is: 3.0 and -0.5\n"
     ]
    }
   ],
   "source": [
    "# importing sqrt \n",
    "from math import sqrt\n",
    "# program response message\n",
    "print(\"This program calculates the roots of a quadratic equation..\")\n",
    "# Input the coefficients a, b & c\n",
    "a = float(input(\"Enter coefficients a: \"))\n",
    "b = float(input(\"Enter coefficients b: \"))\n",
    "c = float(input(\"Enter coefficients c: \"))\n",
    "# Calculate the determinant\n",
    "determinant = sqrt(b**2 - 4*a*c)\n",
    "# Calculate the root1 & root2\n",
    "root1 = (-b + determinant) / (2*a)\n",
    "root2 = (-b - determinant) / (2*a)\n",
    "# Display the root\n",
    "print()\n",
    "print(f\"The solution is: {root1} and {root2}\")"
   ]
  },
  {
   "cell_type": "markdown",
   "metadata": {},
   "source": [
    "# Q16: Surface Area of a Prolate Spheroid\n",
    "- A prolate spheroid is an almost-spherical shape with semi-axes a and b (with a > b). \n",
    "- The surface area of a prolate spheroid is\n",
    "    - S=2π b(b+ (a*arcsin(e)/e))  where e = √a^2−b^2 / a\n",
    "\n",
    "- Design and write a program which inputs the values of a and b and calculates and displays the surface area of a prolate spheroid. For arcsin use the math module's function asin().\n",
    "- Hint: Calculate the value of e first, then use it in the formula for S, the surface area.\n",
    "\n",
    "- Specification:\n",
    "    - Input\n",
    "        - a & b\n",
    "    - Processing\n",
    "        - Input a & b\n",
    "        - Calculating e and Surface area\n",
    "    - Output\n",
    "        - root1 & root2"
   ]
  },
  {
   "cell_type": "code",
   "execution_count": 48,
   "metadata": {},
   "outputs": [
    {
     "name": "stdout",
     "output_type": "stream",
     "text": [
      "This program calculates the surface area of a prolate_spheroid..\n"
     ]
    },
    {
     "name": "stdin",
     "output_type": "stream",
     "text": [
      "Enter semi-axis a:  15\n",
      "Enter semi-axis b:  10\n"
     ]
    },
    {
     "name": "stdout",
     "output_type": "stream",
     "text": [
      "The Surface area (S) is: 1691.82\n"
     ]
    }
   ],
   "source": [
    "# importing pie and sqrt from math\n",
    "from math import pi, sqrt, asin\n",
    "# program response message\n",
    "print(\"This program calculates the surface area of a prolate_spheroid..\")\n",
    "# input a \n",
    "a = float(input(\"Enter semi-axis a: \"))\n",
    "b = float(input(\"Enter semi-axis b: \"))\n",
    "# calculate (e)\n",
    "e = sqrt(a**2 - b**2) / (a)\n",
    "# Calculate the surface area\n",
    "surface_area = 2*pi*b*(b+a*asin(e) / (e))\n",
    "# Display the Surface area (S)\n",
    "print(f\"The Surface area (S) is: {surface_area:.2f}\")"
   ]
  },
  {
   "cell_type": "markdown",
   "metadata": {},
   "source": [
    "# Q17: Velocity of a surface wave in a liquid\n",
    "- The velocity of a surface wave in a liquid is given by\n",
    "    - v=√((g λ / (2 π)) + (2π γ / ρλ ))tanh((2πh / λ))  where\n",
    "        - g is the acceleration due to gravity\n",
    "        - λ is the wavelength\n",
    "        - ρ is the density of the liquid\n",
    "        - γ is the surface tension\n",
    "        - h is the depth of the liquid\n",
    "        \n",
    "- Design and write a program which inputs the gravity, wavelength, density, surface tension and depth\n",
    "of the liquid and then calculates and displays the velocity of the surface wave. \n",
    "\n",
    "- Specification: \n",
    "    - Input\n",
    "        - gravity, wavelength, density, surface tension, depth\n",
    "    - Processing\n",
    "        - input gravity, wavelength, density, surface tension, depth\n",
    "        - calculate Velocity\n",
    "    - Output\n",
    "        - Velocity"
   ]
  },
  {
   "cell_type": "code",
   "execution_count": 51,
   "metadata": {},
   "outputs": [
    {
     "name": "stdout",
     "output_type": "stream",
     "text": [
      "This program calculates the velocity of a surface wave in a liquid..\n"
     ]
    },
    {
     "name": "stdin",
     "output_type": "stream",
     "text": [
      "Enter a gravity:  9.81\n",
      "Enter a wavelength:  0.5\n",
      "Enter a density:  1\n",
      "Enter a surface tension:  1.1\n",
      "Enter a depth:  2\n"
     ]
    },
    {
     "name": "stdout",
     "output_type": "stream",
     "text": [
      "The Velocity is: 2.862\n"
     ]
    }
   ],
   "source": [
    "# importing tanh, pi, sqrt from math\n",
    "from math import tanh, pi, sqrt\n",
    "# program response message\n",
    "print(\"This program calculates the velocity of a surface wave in a liquid..\")\n",
    "# input gravity, wavelength, density, surface rension, depth\n",
    "gravity = float(input(\"Enter a gravity: \"))\n",
    "wavelength = float(input(\"Enter a wavelength: \"))\n",
    "density = float(input(\"Enter a density: \"))\n",
    "surface_tension = float(input(\"Enter a surface tension: \"))\n",
    "depth = float(input(\"Enter a depth: \"))\n",
    "# Calcuate the Velocity\n",
    "velocity = sqrt(((gravity*wavelength) / (2*pi)) + ((2*pi*surface_tension) + (density*wavelength)))*tanh(2*pi*depth / wavelength)\n",
    "# Display Velocity\n",
    "print(f\"The Velocity is: {velocity:.3f}\")"
   ]
  }
 ],
 "metadata": {
  "kernelspec": {
   "display_name": "Python 3",
   "language": "python",
   "name": "python3"
  },
  "language_info": {
   "codemirror_mode": {
    "name": "ipython",
    "version": 3
   },
   "file_extension": ".py",
   "mimetype": "text/x-python",
   "name": "python",
   "nbconvert_exporter": "python",
   "pygments_lexer": "ipython3",
   "version": "3.7.6"
  }
 },
 "nbformat": 4,
 "nbformat_minor": 4
}
