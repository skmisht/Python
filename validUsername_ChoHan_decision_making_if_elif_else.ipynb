{
 "cells": [
  {
   "cell_type": "markdown",
   "metadata": {},
   "source": [
    "# Program to validate a username by A00280207"
   ]
  },
  {
   "cell_type": "markdown",
   "metadata": {},
   "source": [
    "# 1. Validate Username\n",
    "- A computer specifies that, for a username to be valid, it must comply with all of the following rules:\n",
    "    - The username must be between 4 and 8 characters long\n",
    "    - The username must start with a lowercase letter\n",
    "    - The username can only consist of alphanumeric characters (letters and numbers.\n",
    "\n",
    "- Design, write and test a program which\n",
    "    - inputs a username\n",
    "    - checks if the username is valid, in which case a suitable message should be displayed;\n",
    "    - otherwise, the program should display a message indicating why it is not valid (which rule(s) was not complied with)\n",
    "    \n",
    "Challenge: Do not use loops, lists or any other features.\n",
    "\n",
    "Program Specification table:| Input | Processing | Output |\n",
    "\n",
    "Input\n",
    "- username\n",
    "\n",
    "Processing\n",
    "- input username\n",
    "- if statement for username with matching conditions of\n",
    "    - if not username islower() and isalnum() and (4 <= len(user_name) <= 8)...\n",
    "    - display message as reason with faulty username's input and if it is valid username\n",
    "\n",
    "Output\n",
    "- username\n",
    "- display message"
   ]
  },
  {
   "cell_type": "code",
   "execution_count": 8,
   "metadata": {},
   "outputs": [
    {
     "name": "stdout",
     "output_type": "stream",
     "text": [
      "This program validates Username..\n",
      "------------------------------------------------------------\n"
     ]
    },
    {
     "name": "stdin",
     "output_type": "stream",
     "text": [
      "Enter your Username:  surender_kumar\n"
     ]
    },
    {
     "name": "stdout",
     "output_type": "stream",
     "text": [
      "Username is invalid: Contains non-alphanumeric characters.\n"
     ]
    }
   ],
   "source": [
    "# Program response message\n",
    "print(\"This program validates Username..\")\n",
    "print(\"--\"*30)\n",
    "# input the username\n",
    "user_name = input(\"Enter your Username: \")\n",
    "# if statement - if the username is valid or invalid\n",
    "if not user_name.isalnum():\n",
    "    print(\"Username is invalid: Contains non-alphanumeric characters.\")\n",
    "elif not user_name.islower():\n",
    "    print(\"Username is invalid: Does not start with the lowercase letter.\")\n",
    "elif not len(user_name) >=4:\n",
    "    print(\"Username is invalid: Too short - must have between 4 and 8 alphanumeric characters.\")\n",
    "elif not len(user_name) <= 8:\n",
    "    print(\"Username is invalid: Too long - must have between 4 and 8 alphanumeric characters.\")\n",
    "else: \n",
    "    print(\"Valid Username\")"
   ]
  },
  {
   "cell_type": "markdown",
   "metadata": {},
   "source": [
    "# # Program to validate a username by A00280207"
   ]
  },
  {
   "cell_type": "markdown",
   "metadata": {},
   "source": [
    "# 2. ChoHan Game\n",
    "- ChoHan is a game played with 2 dice. A player guesses whether the total of 2 dice is even (Cho) or odd (Han).\n",
    "\n",
    "- Design, write and test a program which implements the game. The program should:\n",
    "    - Input the player's guess\n",
    "    - Simulate rolling two dice, calculate the total and display the dice rolls and the total\n",
    "    - Determine and display a message indicating whether or not the player guessed correctly\n",
    "    \n",
    "Hints:\n",
    "1. To simulate rolling a die, you need to\n",
    "        - Import the method randint from the module random\n",
    "        - Call randint(1,6) and store the result\n",
    "2. To check if a number is even, use the modulo operator, e.g. total % 2 == 0 means total is even, total % 2 == 1 means total is odd.\n",
    "\n",
    "Challenge: Do not use loops, lists or any other features.\n",
    "\n",
    "Program Specification table: | Input | Processing | Output |\n",
    "\n",
    "Input\n",
    "- guess\n",
    "\n",
    "Processing\n",
    "- input guess\n",
    "- generate the die roll (roll_1 & roll_2)\n",
    "- calculating total of die_rolling (total(roll_1 + roll_2))\n",
    "- if statement for guess - Even/Odd\n",
    "    - if the total is even and guess is even print(total for roll_1 and roll_2) and display message of right guess\n",
    "    - if the total is odd and guess is odd print(total for roll_1 and roll_2 and display message of right guess\n",
    "    - if the total is even and guess is odd or vice versa print(total for roll_1 and roll_2) and display message of wrong guess\n",
    "\n",
    "Output\n",
    "- Display Guess (right or wrong)"
   ]
  },
  {
   "cell_type": "code",
   "execution_count": 9,
   "metadata": {},
   "outputs": [
    {
     "name": "stdout",
     "output_type": "stream",
     "text": [
      "This program display the right/wrong decision after guessing the even & odd Number from ChoHan game.\n",
      "------------------------------------------------------------------------------------------\n"
     ]
    },
    {
     "name": "stdin",
     "output_type": "stream",
     "text": [
      "Enter your guess (even or odd):  even\n",
      "Press *Enter* to roll both dice \n"
     ]
    },
    {
     "name": "stdout",
     "output_type": "stream",
     "text": [
      "Dice rolls: 5 and 3 Total is 8\n",
      "You guessed it right!\n"
     ]
    }
   ],
   "source": [
    "# importing randint \n",
    "from random import randint\n",
    "# program response message\n",
    "print(\"This program display the right/wrong decision after guessing the even & odd Number from ChoHan game.\")\n",
    "print(\"---\"*30)\n",
    "\n",
    "# Input guess\n",
    "guess = str(input(\"Enter your guess (even or odd): \"))\n",
    "\n",
    "roll_1 = randint(1,6) # die roll 1 \n",
    "roll_2 = randint(1,6) # die roll 2\n",
    "roll = input(\"Press *Enter* to roll both dice\") # press Enter to confirm the rolls\n",
    "total = (roll_1 + roll_2) # total after both die rolls\n",
    "\n",
    "# 1). if statement for Even/Odd -\n",
    "if total % 2 == 0 and guess == \"even\":\n",
    "    # if the total is \"even\" and guess is \"even\" than its right\n",
    "    print(f\"Dice rolls: {roll_1} and {roll_2} Total is {total}\")\n",
    "    print(\"You guessed it right!\")   \n",
    "elif total % 2 == 1 and guess == \"odd\": \n",
    "    # if the total is \"odd\" and guess is \"odd\" than its right\n",
    "    print(f\"Dice rolls: {roll_1} and {roll_2} Total is {total}\")\n",
    "    print(\"you guessed it right!\")\n",
    "elif (total % 2 == 0 and guess == \"odd\") or (total % 2 == 1 and guess == \"even\"):\n",
    "    # if either statements are wrong\n",
    "    print(f\"Dice rolls: {roll_1} and {roll_2} Total is {total}\")\n",
    "    print(\"You guessed it wrong!\")"
   ]
  }
 ],
 "metadata": {
  "kernelspec": {
   "display_name": "Python 3",
   "language": "python",
   "name": "python3"
  },
  "language_info": {
   "codemirror_mode": {
    "name": "ipython",
    "version": 3
   },
   "file_extension": ".py",
   "mimetype": "text/x-python",
   "name": "python",
   "nbconvert_exporter": "python",
   "pygments_lexer": "ipython3",
   "version": "3.7.6"
  }
 },
 "nbformat": 4,
 "nbformat_minor": 4
}
