{
 "cells": [
  {
   "cell_type": "markdown",
   "metadata": {},
   "source": [
    "# Exercise 1: Star Wars Name Generator\n",
    "- Design, write and test a program to generate your Star Wars name.\n",
    "- For your Star Wars first name\n",
    "    - Take the first 3 letters of your first name\n",
    "    - add the first 2 letters of your last name\n",
    "- For your Star Wars last name\n",
    "    - Take the first 2 letters of your Mother's maiden name\n",
    "    - add the first 3 letters of the place you were born\n",
    "    \n",
    "- Program design: Specification\n",
    "    - Input\n",
    "        - firstname, lastname,  mother's maiden name & birhtplace\n",
    "    - Processing\n",
    "        - Input firstname, lastname, mother's maiden name & birhtplace\n",
    "    - Ouput\n",
    "        - Star war name "
   ]
  },
  {
   "cell_type": "code",
   "execution_count": 1,
   "metadata": {},
   "outputs": [
    {
     "name": "stdout",
     "output_type": "stream",
     "text": [
      "This program generates your Star War name..\n"
     ]
    },
    {
     "name": "stdin",
     "output_type": "stream",
     "text": [
      "Enter the firstname:  Sameer\n",
      "Enter the lastname:  Chouhan\n",
      "Enter the mother maiden name:  Karishma\n",
      "Enter the birth place name:  Dublin\n"
     ]
    },
    {
     "name": "stdout",
     "output_type": "stream",
     "text": [
      "Your Star Wars name is: SamCh KaDub\n"
     ]
    }
   ],
   "source": [
    "# Program response message\n",
    "print(\"This program generates your Star War name..\")\n",
    "# Input firstname, lastname, mother's maiden name & birthplace\n",
    "firstname = input(\"Enter the firstname: \")\n",
    "lastname = input(\"Enter the lastname: \")\n",
    "mother_maiden_name = input(\"Enter the mother maiden name: \")\n",
    "birthplace_name = input(\"Enter the birth place name: \")\n",
    "# generating the Star war name\n",
    "sw_firstname = firstname[:3]+lastname[:2]\n",
    "sw_lastname = mother_maiden_name[:2]+birthplace_name[:3]\n",
    "sw_fullname = sw_firstname+\" \"+sw_lastname\n",
    "# Display Star wars name\n",
    "print(f\"Your Star Wars name is: {sw_fullname}\")"
   ]
  },
  {
   "cell_type": "markdown",
   "metadata": {},
   "source": [
    "# Exercise 2: Period of a Pendulum\n",
    "- A pendulum is a weight suspended from a pivot so that it can swing freely (e.g. in grandfather clock).\n",
    "- The period T is the time (in seconds) required to complete one full cycle, over and back\n",
    "    - T = 2π √(l/g)\n",
    "        - where l is the length of the pendulum\n",
    "        - and g is the acceleration due to gravity (9.81m/s)\n",
    "- Write a program to calculate the period of a pendulum and display the output formatted to 2 decimal places.\n",
    "\n",
    "- Program design: Specification\n",
    "    - Input\n",
    "        - Length of Pendulam in metres\n",
    "    - Processing\n",
    "        - Length of Pendulam (L)\n",
    "        - accerlation due to gravity (g) which is 9.81 m/s\n",
    "        - calculating time (T)\n",
    "    - Output\n",
    "        - Time"
   ]
  },
  {
   "cell_type": "code",
   "execution_count": 6,
   "metadata": {},
   "outputs": [
    {
     "name": "stdout",
     "output_type": "stream",
     "text": [
      "This program calculates the time period of a Pendulam..\n"
     ]
    },
    {
     "name": "stdin",
     "output_type": "stream",
     "text": [
      "Input the length of Pendulam in metres:  1\n"
     ]
    },
    {
     "name": "stdout",
     "output_type": "stream",
     "text": [
      "the Time is: 2.01\n"
     ]
    }
   ],
   "source": [
    "# Importing pi, sqrt package of math module\n",
    "from math import pi, sqrt\n",
    "# Program response message\n",
    "print(\"This program calculates the time period of a Pendulam..\")\n",
    "# input the length of the pendulam in metres and given accerlation due to gravity\n",
    "length_of_pendulam = float(input(\"Input the length of Pendulam in metres: \"))\n",
    "accerlation_due_to_gravity = 9.81\n",
    "# Calculating period \n",
    "time = 2*pi*(sqrt(length_of_pendulam/accerlation_due_to_gravity))\n",
    "# Display the time1\n",
    "print(f\"the Time is: {time:.2f}\")"
   ]
  }
 ],
 "metadata": {
  "kernelspec": {
   "display_name": "Python 3",
   "language": "python",
   "name": "python3"
  },
  "language_info": {
   "codemirror_mode": {
    "name": "ipython",
    "version": 3
   },
   "file_extension": ".py",
   "mimetype": "text/x-python",
   "name": "python",
   "nbconvert_exporter": "python",
   "pygments_lexer": "ipython3",
   "version": "3.7.6"
  }
 },
 "nbformat": 4,
 "nbformat_minor": 4
}
